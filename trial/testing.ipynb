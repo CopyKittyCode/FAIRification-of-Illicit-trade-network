{
 "cells": [
  {
   "cell_type": "code",
   "execution_count": 2,
   "metadata": {},
   "outputs": [],
   "source": [
    "from dbrepo.RestClient import RestClient\n",
    "from typing import List\n",
    "import pandas as pd"
   ]
  },
  {
   "cell_type": "markdown",
   "metadata": {},
   "source": [
    "# DBRepo"
   ]
  },
  {
   "cell_type": "code",
   "execution_count": 3,
   "metadata": {},
   "outputs": [
    {
     "name": "stdout",
     "output_type": "stream",
     "text": [
      "user info: id='fe88dee0-b5fa-103f-925a-771c9581a932' username='daria.stefan' attributes=UserAttributes(theme='light', language='en', orcid='https://orcid.org/0009-0008-0586-9350', affiliation='0000 0004 1937 0669') qualified_name='Daria Stefan — @daria.stefan' given_name='Daria' family_name='Stefan' name='Daria Stefan'\n"
     ]
    }
   ],
   "source": [
    "client = RestClient(endpoint=\"http://test.dbrepo.tuwien.ac.at\", username=\"daria.stefan\",\n",
    "                    password=\"F@ntasiaRed7712\") #so secure so safe much wow\n",
    "\n",
    "user = client.get_user(user_id=\"fe88dee0-b5fa-103f-925a-771c9581a932\")\n",
    "print(f\"user info: {user}\")"
   ]
  },
  {
   "cell_type": "code",
   "execution_count": 4,
   "metadata": {},
   "outputs": [
    {
     "name": "stdout",
     "output_type": "stream",
     "text": [
      "Name: NFL Stadium Attendance, ID: fcedf17b-1ff2-4730-a314-af2d720d2c3f\n",
      "Name: customer_personality_analysis, ID: f5fb6f43-4589-4c69-913a-23ee03f768b6\n",
      "Name: Py_Illicit_Trade_KG, ID: f5ede80d-828b-47a0-bdf7-87fdffff815a\n",
      "Name: ML and semi-automatic KG enrichment, ID: f364ce6f-6a52-43d5-bcd7-bc98e709c72c\n",
      "Name: loan-dataset, ID: f234cb20-706f-4995-9ab9-89bcbf25d027\n",
      "Name: Online Food Ordering System, ID: ef19ab12-0720-485c-b133-57a618a55bb8\n",
      "Name: Py_Illicit_Trade_KG, ID: e7eab916-a14f-44d6-8457-ecc542248aa5\n",
      "Name: Py_Illicit_Trade_KG, ID: e30f2ca5-ba60-4587-849b-4a496abfc186\n",
      "Name: Airbnb Listings US 2023/12331410, ID: cf2d0d37-7b08-4b2b-841c-90517e95937a\n",
      "Name: Py_Illicit_Trade_KG, ID: c834a548-f963-468b-9c4a-5b5f81b28c9a\n",
      "Name: synthetic_student_data, ID: c45328ec-80f7-497d-8be6-c3505489ddb4\n",
      "Name: Rainfall Prediction, ID: b71909fb-f916-4255-87cb-31dea8175ee0\n",
      "Name: IoMT_dataset, ID: b3ac4b9e-f066-48f9-8bdd-326500cb1849\n",
      "Name: Py_Illicit_Trade_KG, ID: b3616b9c-9ef6-4cde-b64e-c03f899c1225\n",
      "Name: owid-co2-data, ID: 99116b65-645f-4057-8353-21628a0e52ed\n",
      "Name: AirBnB_US_2023_Data_e12327971, ID: 93fa93be-a40d-49e0-9757-ef1d66a257bc\n",
      "Name: Student Exam Performance Dataset, ID: 8ff79e23-a799-47dd-b767-d501e61fde29\n",
      "Name: Py_Illicit_Trade_KG, ID: 81600586-b4d6-4453-b187-77cce5dd5307\n",
      "Name: Illicit trade KG, ID: 7fd51abf-d821-4d57-95d5-9bb2ecd4b8e8\n",
      "Name: machine_failure, ID: 7f109eb4-a337-422e-9b22-f43b7f2a4cf6\n",
      "Name: Rocket League Skillshot, ID: 75a0e9af-2637-4d04-bf73-57261a2e7f25\n",
      "Name: spam_mail_detector, ID: 7105b5ed-3020-42ad-8f67-f670c2f6fa18\n",
      "Name: Seoul Bike Demand, ID: 674930b1-c199-4f3a-aa57-7ba55445bcd2\n",
      "Name: Wolf Sightings in Upper Austria, ID: 4c9ac630-7ec5-491c-b727-0bea3224da91\n",
      "Name: Py_Illicit_Trade_KG, ID: 45d7882e-0be1-4197-90d5-e915ef5ac285\n",
      "Name: my_db, attack_prediction, ID: 451dd314-e8c4-4d2f-b302-5fc8c291b19d\n",
      "Name: House Sales Pricing King County, ID: 431dcde1-98bf-416c-8188-aa32c3cb3570\n",
      "Name: Illicit trade Knowledge Graph, ID: 394ca419-09a3-44cc-b49d-26676ba7d3b2\n",
      "Name: NBA Game Dataset, ID: 2e167490-c803-4a9a-a317-6e274c6b3a37\n",
      "Name: best_office_activity, ID: 2db2301f-c701-4d9e-a1d1-3d2d64fa9dd9\n",
      "Name: Machine Learning-Based Tour Recommendation System, ID: 2d300e6f-5798-42d2-a3ce-b234d4b8317a\n",
      "Name: fair_dm, ID: 21eb2f7b-cea6-49f2-8dfc-03d3f03fd636\n",
      "Name: ames_housing_prices, ID: 20dc7a48-04c1-4596-812b-03ffa49f4e5c\n",
      "Name: Prediction of Airbnb Rental Prices using Machine Learning, ID: 20007276-c04a-4c21-b12f-5aed3fe39388\n",
      "Name: University Rankings, ID: 1b5ad9c5-c3fa-42ae-975b-19ee5ef679bd\n",
      "Name: rossmann_store_sales, ID: 18021ccb-88bd-41af-98db-835cb7dc7354\n",
      "Name: Rainfall Prediction, ID: 128c14f7-f0c3-400d-9467-448cd7124948\n",
      "Name: Lego, ID: 10700219-44db-4016-9944-a2987ef86ee1\n"
     ]
    }
   ],
   "source": [
    "databases = client.get_databases()\n",
    "\n",
    "# Loop through and print name + id of each database\n",
    "for db in databases:\n",
    "    print(f\"Name: {db.name}, ID: {db.id}\")"
   ]
  },
  {
   "cell_type": "code",
   "execution_count": 194,
   "metadata": {},
   "outputs": [],
   "source": [
    "database_id = \"e30f2ca5-ba60-4587-849b-4a496abfc186\""
   ]
  },
  {
   "cell_type": "code",
   "execution_count": 161,
   "metadata": {},
   "outputs": [],
   "source": [
    "data_df = pd.read_csv('data1.csv')  # The original triples with IDs\n",
    "data_df = data_df.set_index('ID')"
   ]
  },
  {
   "cell_type": "code",
   "execution_count": 195,
   "metadata": {},
   "outputs": [
    {
     "data": {
      "text/html": [
       "<div>\n",
       "<style scoped>\n",
       "    .dataframe tbody tr th:only-of-type {\n",
       "        vertical-align: middle;\n",
       "    }\n",
       "\n",
       "    .dataframe tbody tr th {\n",
       "        vertical-align: top;\n",
       "    }\n",
       "\n",
       "    .dataframe thead th {\n",
       "        text-align: right;\n",
       "    }\n",
       "</style>\n",
       "<table border=\"1\" class=\"dataframe\">\n",
       "  <thead>\n",
       "    <tr style=\"text-align: right;\">\n",
       "      <th></th>\n",
       "      <th>head</th>\n",
       "      <th>relationship</th>\n",
       "      <th>tail</th>\n",
       "    </tr>\n",
       "    <tr>\n",
       "      <th>ID</th>\n",
       "      <th></th>\n",
       "      <th></th>\n",
       "      <th></th>\n",
       "    </tr>\n",
       "  </thead>\n",
       "  <tbody>\n",
       "    <tr>\n",
       "      <th>1</th>\n",
       "      <td>Abraham Trust</td>\n",
       "      <td>partnered</td>\n",
       "      <td>Geoffrey Jenkinson</td>\n",
       "    </tr>\n",
       "    <tr>\n",
       "      <th>2</th>\n",
       "      <td>Benjamin Bishop Johnson</td>\n",
       "      <td>appraised_art_for</td>\n",
       "      <td>David Swetnam</td>\n",
       "    </tr>\n",
       "    <tr>\n",
       "      <th>3</th>\n",
       "      <td>Donald Hales</td>\n",
       "      <td>appraised_art_for</td>\n",
       "      <td>Leonardo Patterson</td>\n",
       "    </tr>\n",
       "    <tr>\n",
       "      <th>4</th>\n",
       "      <td>Giacomo Medici</td>\n",
       "      <td>appraised_art_for</td>\n",
       "      <td>Nikolas Koutoulakis</td>\n",
       "    </tr>\n",
       "    <tr>\n",
       "      <th>5</th>\n",
       "      <td>Jack Ogden</td>\n",
       "      <td>appraised_art_for</td>\n",
       "      <td>Michael Ward Gallery</td>\n",
       "    </tr>\n",
       "    <tr>\n",
       "      <th>...</th>\n",
       "      <td>...</td>\n",
       "      <td>...</td>\n",
       "      <td>...</td>\n",
       "    </tr>\n",
       "    <tr>\n",
       "      <th>1200</th>\n",
       "      <td>Robert Hecht</td>\n",
       "      <td>sold_antiquities_to</td>\n",
       "      <td>Marion True</td>\n",
       "    </tr>\n",
       "    <tr>\n",
       "      <th>1201</th>\n",
       "      <td>Giacomo Medici</td>\n",
       "      <td>sold_antiquities_to</td>\n",
       "      <td>Marion True</td>\n",
       "    </tr>\n",
       "    <tr>\n",
       "      <th>1202</th>\n",
       "      <td>Robert Hecht</td>\n",
       "      <td>implicated_with</td>\n",
       "      <td>Marion True</td>\n",
       "    </tr>\n",
       "    <tr>\n",
       "      <th>1203</th>\n",
       "      <td>Giacomo Medici</td>\n",
       "      <td>implicated_with</td>\n",
       "      <td>Marion True</td>\n",
       "    </tr>\n",
       "    <tr>\n",
       "      <th>1204</th>\n",
       "      <td>Sotheby's</td>\n",
       "      <td>returned</td>\n",
       "      <td>Empress Dou Figurines</td>\n",
       "    </tr>\n",
       "  </tbody>\n",
       "</table>\n",
       "<p>1204 rows × 3 columns</p>\n",
       "</div>"
      ],
      "text/plain": [
       "                         head         relationship                   tail\n",
       "ID                                                                       \n",
       "1               Abraham Trust            partnered     Geoffrey Jenkinson\n",
       "2     Benjamin Bishop Johnson    appraised_art_for          David Swetnam\n",
       "3                Donald Hales    appraised_art_for     Leonardo Patterson\n",
       "4              Giacomo Medici    appraised_art_for    Nikolas Koutoulakis\n",
       "5                  Jack Ogden    appraised_art_for   Michael Ward Gallery\n",
       "...                       ...                  ...                    ...\n",
       "1200             Robert Hecht  sold_antiquities_to            Marion True\n",
       "1201           Giacomo Medici  sold_antiquities_to            Marion True\n",
       "1202             Robert Hecht      implicated_with            Marion True\n",
       "1203           Giacomo Medici      implicated_with            Marion True\n",
       "1204                Sotheby's             returned  Empress Dou Figurines\n",
       "\n",
       "[1204 rows x 3 columns]"
      ]
     },
     "execution_count": 195,
     "metadata": {},
     "output_type": "execute_result"
    }
   ],
   "source": [
    "data_df"
   ]
  },
  {
   "cell_type": "code",
   "execution_count": 196,
   "metadata": {},
   "outputs": [
    {
     "data": {
      "text/plain": [
       "TableBrief(id='7dfe8ed0-eaad-41e9-9987-55ee027ee983', database_id='e30f2ca5-ba60-4587-849b-4a496abfc186', name='illicit antiques trade network', description='triples describing relationships between people, institutions, countries and the movement of antiques and artifacts', internal_name='illicit_antiques_trade_network', is_versioned=True, is_public=True, is_schema_public=True, owned_by='fe88dee0-b5fa-103f-925a-771c9581a932')"
      ]
     },
     "execution_count": 196,
     "metadata": {},
     "output_type": "execute_result"
    }
   ],
   "source": [
    "##uploat table\n",
    "client.create_table(database_id, \"illicit antiques trade network\", True, True, data_df,\n",
    "                     \"triples describing relationships between people, institutions, countries and the movement of antiques and artifacts\", True)"
   ]
  },
  {
   "cell_type": "code",
   "execution_count": 197,
   "metadata": {},
   "outputs": [],
   "source": [
    "internal_name='illicit_antiques_trade_network'"
   ]
  },
  {
   "cell_type": "code",
   "execution_count": 198,
   "metadata": {},
   "outputs": [],
   "source": [
    "def get_all_tables(client, database_id: str) -> List:\n",
    "    \"\"\"\n",
    "    List all tables in a given database by ID.\n",
    "    \n",
    "    :param client: Authenticated RestClient\n",
    "    :param database_id: The database UUID\n",
    "    :return: List of (table name, table id)\n",
    "    \"\"\"\n",
    "    url = f'/api/database/{database_id}/table'\n",
    "    response = client._wrapper(method=\"get\", url=url)\n",
    "    \n",
    "    if response.status_code == 200:\n",
    "        tables_json = response.json()\n",
    "        # you may need to validate this using TypeAdapter if TableBrief or similar exists\n",
    "        return [(table[\"name\"], table[\"id\"]) for table in tables_json]\n",
    "\n",
    "    raise Exception(f\"Failed to get tables: {response.status_code}: {response.text}\")\n",
    "\n"
   ]
  },
  {
   "cell_type": "code",
   "execution_count": 199,
   "metadata": {},
   "outputs": [
    {
     "name": "stdout",
     "output_type": "stream",
     "text": [
      "Table Name: illicit antiques trade network, Table ID: 7dfe8ed0-eaad-41e9-9987-55ee027ee983\n"
     ]
    }
   ],
   "source": [
    "tables = get_all_tables(client, database_id)\n",
    "\n",
    "# Print them out\n",
    "for name, table_id in tables:\n",
    "    print(f\"Table Name: {name}, Table ID: {table_id}\")"
   ]
  },
  {
   "cell_type": "code",
   "execution_count": 212,
   "metadata": {},
   "outputs": [],
   "source": [
    "table_id=\"7dfe8ed0-eaad-41e9-9987-55ee027ee983\"\n",
    "table_name = \"illicit_antiques_trade_network\""
   ]
  },
  {
   "cell_type": "code",
   "execution_count": 202,
   "metadata": {},
   "outputs": [],
   "source": [
    "#get table\n",
    "def fetch_all_table_data(client, database_id: str, table_id: str):\n",
    "    \"\"\"\n",
    "    Fetch all data from a table using pagination and return it as a pandas DataFrame.\n",
    "\n",
    "    :param client: The API client.\n",
    "    :param database_id: The database ID.\n",
    "    :param table_id: The table ID.\n",
    "    :return: A pandas DataFrame containing all the table data.\n",
    "    \"\"\"\n",
    "    all_data = []\n",
    "    page = 0\n",
    "    size = 100  # You can adjust the page size if needed\n",
    "    \n",
    "    while True:\n",
    "        table_data = client.get_table_data(database_id, table_id, page, size)\n",
    "        \n",
    "        if table_data.empty:\n",
    "            break  # No more data\n",
    "        \n",
    "        all_data.append(table_data)\n",
    "        page += 1  # Go to the next page\n",
    "\n",
    "    # Concatenate all pages into one big DataFrame\n",
    "    full_data = pd.concat(all_data, ignore_index=True)\n",
    "    \n",
    "    return full_data\n"
   ]
  },
  {
   "cell_type": "code",
   "execution_count": 203,
   "metadata": {},
   "outputs": [
    {
     "data": {
      "text/html": [
       "<div>\n",
       "<style scoped>\n",
       "    .dataframe tbody tr th:only-of-type {\n",
       "        vertical-align: middle;\n",
       "    }\n",
       "\n",
       "    .dataframe tbody tr th {\n",
       "        vertical-align: top;\n",
       "    }\n",
       "\n",
       "    .dataframe thead th {\n",
       "        text-align: right;\n",
       "    }\n",
       "</style>\n",
       "<table border=\"1\" class=\"dataframe\">\n",
       "  <thead>\n",
       "    <tr style=\"text-align: right;\">\n",
       "      <th></th>\n",
       "      <th>head</th>\n",
       "      <th>relationship</th>\n",
       "      <th>tail</th>\n",
       "      <th>id</th>\n",
       "    </tr>\n",
       "  </thead>\n",
       "  <tbody>\n",
       "    <tr>\n",
       "      <th>0</th>\n",
       "      <td>Abraham Trust</td>\n",
       "      <td>partnered</td>\n",
       "      <td>Geoffrey Jenkinson</td>\n",
       "      <td>1</td>\n",
       "    </tr>\n",
       "    <tr>\n",
       "      <th>1</th>\n",
       "      <td>Benjamin Bishop Johnson</td>\n",
       "      <td>appraised_art_for</td>\n",
       "      <td>David Swetnam</td>\n",
       "      <td>2</td>\n",
       "    </tr>\n",
       "    <tr>\n",
       "      <th>2</th>\n",
       "      <td>Donald Hales</td>\n",
       "      <td>appraised_art_for</td>\n",
       "      <td>Leonardo Patterson</td>\n",
       "      <td>3</td>\n",
       "    </tr>\n",
       "    <tr>\n",
       "      <th>3</th>\n",
       "      <td>Giacomo Medici</td>\n",
       "      <td>appraised_art_for</td>\n",
       "      <td>Nikolas Koutoulakis</td>\n",
       "      <td>4</td>\n",
       "    </tr>\n",
       "    <tr>\n",
       "      <th>4</th>\n",
       "      <td>Jack Ogden</td>\n",
       "      <td>appraised_art_for</td>\n",
       "      <td>Michael Ward Gallery</td>\n",
       "      <td>5</td>\n",
       "    </tr>\n",
       "    <tr>\n",
       "      <th>...</th>\n",
       "      <td>...</td>\n",
       "      <td>...</td>\n",
       "      <td>...</td>\n",
       "      <td>...</td>\n",
       "    </tr>\n",
       "    <tr>\n",
       "      <th>1199</th>\n",
       "      <td>Robert Hecht</td>\n",
       "      <td>sold_antiquities_to</td>\n",
       "      <td>Marion True</td>\n",
       "      <td>1200</td>\n",
       "    </tr>\n",
       "    <tr>\n",
       "      <th>1200</th>\n",
       "      <td>Giacomo Medici</td>\n",
       "      <td>sold_antiquities_to</td>\n",
       "      <td>Marion True</td>\n",
       "      <td>1201</td>\n",
       "    </tr>\n",
       "    <tr>\n",
       "      <th>1201</th>\n",
       "      <td>Robert Hecht</td>\n",
       "      <td>implicated_with</td>\n",
       "      <td>Marion True</td>\n",
       "      <td>1202</td>\n",
       "    </tr>\n",
       "    <tr>\n",
       "      <th>1202</th>\n",
       "      <td>Giacomo Medici</td>\n",
       "      <td>implicated_with</td>\n",
       "      <td>Marion True</td>\n",
       "      <td>1203</td>\n",
       "    </tr>\n",
       "    <tr>\n",
       "      <th>1203</th>\n",
       "      <td>Sotheby's</td>\n",
       "      <td>returned</td>\n",
       "      <td>Empress Dou Figurines</td>\n",
       "      <td>1204</td>\n",
       "    </tr>\n",
       "  </tbody>\n",
       "</table>\n",
       "<p>1204 rows × 4 columns</p>\n",
       "</div>"
      ],
      "text/plain": [
       "                         head         relationship                   tail  \\\n",
       "0               Abraham Trust            partnered     Geoffrey Jenkinson   \n",
       "1     Benjamin Bishop Johnson    appraised_art_for          David Swetnam   \n",
       "2                Donald Hales    appraised_art_for     Leonardo Patterson   \n",
       "3              Giacomo Medici    appraised_art_for    Nikolas Koutoulakis   \n",
       "4                  Jack Ogden    appraised_art_for   Michael Ward Gallery   \n",
       "...                       ...                  ...                    ...   \n",
       "1199             Robert Hecht  sold_antiquities_to            Marion True   \n",
       "1200           Giacomo Medici  sold_antiquities_to            Marion True   \n",
       "1201             Robert Hecht      implicated_with            Marion True   \n",
       "1202           Giacomo Medici      implicated_with            Marion True   \n",
       "1203                Sotheby's             returned  Empress Dou Figurines   \n",
       "\n",
       "        id  \n",
       "0        1  \n",
       "1        2  \n",
       "2        3  \n",
       "3        4  \n",
       "4        5  \n",
       "...    ...  \n",
       "1199  1200  \n",
       "1200  1201  \n",
       "1201  1202  \n",
       "1202  1203  \n",
       "1203  1204  \n",
       "\n",
       "[1204 rows x 4 columns]"
      ]
     },
     "execution_count": 203,
     "metadata": {},
     "output_type": "execute_result"
    }
   ],
   "source": [
    "full_data"
   ]
  },
  {
   "cell_type": "markdown",
   "metadata": {},
   "source": [
    "## Create query to split into subsets according to how the data was split"
   ]
  },
  {
   "cell_type": "code",
   "execution_count": 204,
   "metadata": {},
   "outputs": [],
   "source": [
    "df = split_df.rename(columns={\"Unnamed: 0\": \"ID\"})"
   ]
  },
  {
   "cell_type": "code",
   "execution_count": 206,
   "metadata": {},
   "outputs": [
    {
     "name": "stdout",
     "output_type": "stream",
     "text": [
      "Train IDs regex:    ^(0|1|2|3|4|5|6|7|8|9|10|11|12|13|14|15|16|17|18|19|20|21|22|23|24|25|26|27|28|29|30|31|32|33|34|35|36|37|38|39|40|41|42|43|44|45|46|47|48|49|50|51|52|53|54|55|56|57|58|59|60|61|62|63|64|65|66|67|68|69|70|71|72|73|74|75|76|77|78|79|80|81|82|83|84|85|86|87|88|89|90|91|92|93|94|95|96|97|98|99|100|101|102|103|104|105|106|107|108|109|110|111|112|113|114|115|116|117|118|119|120|121|122|123|124|125|126|127|128|129|130|131|132|133|134|135|136|137|138|139|140|141|142|143|144|145|146|147|148|149|150|151|152|153|154|155|156|157|158|159|160|161|162|163|164|165|166|167|168|169|170|171|172|173|174|175|176|177|178|179|180|181|182|183|184|185|186|187|188|189|190|191|192|193|194|195|196|197|198|199|200|201|202|203|204|205|206|207|208|209|210|211|212|213|214|215|216|217|218|219|220|221|222|223|224|225|226|227|228|229|230|231|232|233|234|235|236|237|238|239|240|241|242|243|244|245|246|247|248|249|250|251|252|253|254|255|256|257|258|259|260|261|262|263|264|265|266|267|268|269|270|271|272|273|274|275|276|277|278|279|280|281|282|283|284|285|286|287|288|289|290|291|292|293|294|295|296|297|298|299|300|301|302|303|304|305|306|307|308|309|310|311|312|313|314|315|316|317|318|319|320|321|322|323|324|325|326|327|328|329|330|331|332|333|334|335|336|337|338|339|340|341|342|343|344|345|346|347|348|349|350|351|352|353|354|355|356|357|358|359|360|361|362|363|364|365|366|367|368|369|370|371|372|373|374|375|376|377|378|379|380|381|382|383|384|385|386|387|388|389|390|391|392|393|394|395|396|397|398|399|400|401|402|403|404|405|406|407|408|409|410|411|412|413|414|415|416|417|418|419|420|421|422|423|424|425|426|427|428|429|430|431|432|433|434|435|436|437|438|439|440|441|442|443|444|445|446|447|448|449|450|451|452|453|454|455|456|457|458|459|460|461|462|463|464|465|466|467|468|469|470|471|472|473|474|475|476|477|478|479|480|481|482|483|484|485|486|487|488|489|490|491|492|493|494|495|496|497|498|499|500|501|502|503|504|505|506|507|508|509|510|511|512|513|514|515|516|517|518|519|520|521|522|523|524|525|526|527|528|529|530|531|532|533|534|535|536|537|538|539|540|541|542|543|544|545|546|547|548|549|550|551|552|553|554|555|556|557|558|559|560|561|562|563|564|565|566|567|568|569|570|571|572|573|574|575|576|577|578|579|580|581|582|583|584|585|586|587|588|589|590|591|592|593|594|595|596|597|598|599|600|601|602|603|604|605|606|607|608|609|610|611|612|613|614|615|616|617|618|619|620|621|622|623|624|625|626|627|628|629|630|631|632|633|634|635|636|637|638|639|640|641|642|643|644|645|646|647|648|649|650|651|652|653|654|655|656|657|658|659|660|661|662|663|664|665|666|667|668|669|670|671|672|673|674|675|676|677|678|679|680|681|682|683|684|685|686|687|688|689|690|691|692|693|694|695|696|697|698|699|700|701|702|703|704|705|706|707|708|709|710|711|712|713|714|715|716|717|718|719|720|721|722|723|724|725|726|727|728|729|730|731|732|733|734|735|736|737|738|739|740|741|742|743|744|745|746|747|748|749|750|751|752|753|754|755|756|757|758|759|760|761|762|763|764|765|766|767|768|769|770|771|772|773|774|775|776|777|778|779|780|781|782|783|784|785|786|787|788|789|790|791|792|793|794|795|796|797|798|799|800|801|802|803|804|805|806|807|808|809|810|811|812|813|814|815|816|817|818|819|820|821|822|823|824|825|826|827|828|829|830|831|832|833|834|835|836|837|838|839|840|841|842|843|844|845|846|847|848|849|850|851|852|853|854|855|856|857|858|859|860|861|862|863|864|865|866|867|868|869|870|871|872|873|874|875|876|877|878|879|880|881|882|883|884|885|886|887|888|889|890|891|892|893|894|895|896|897|898|899|900|901|902|903|904|905|906|907|908|909|910|911|912|913|914|915|916|917|918|919|920|921|922|923|924|925|926|927|928|929|930|931|932|933|934|935|936|937|938|939|940|941|942|943|944|945|946|947|948|949|950|951|952|953|954|955|956|957|958|959|960|961|962)$\n",
      "Validate IDs regex: ^(963|964|965|966|967|968|969|970|971|972|973|974|975|976|977|978|979|980|981|982|983|984|985|986|987|988|989|990|991|992|993|994|995|996|997|998|999|1000|1001|1002|1003|1004|1005|1006|1007|1008|1009|1010|1011|1012|1013|1014|1015|1016|1017|1018|1019|1020|1021|1022|1023|1024|1025|1026|1027|1028|1029|1030|1031|1032|1033|1034|1035|1036|1037|1038|1039|1040|1041|1042|1043|1044|1045|1046|1047|1048|1049|1050|1051|1052|1053|1054|1055|1056|1057|1058|1059|1060|1061|1062|1063|1064|1065|1066|1067|1068|1069|1070|1071|1072|1073|1074|1075|1076|1077|1078|1079|1080|1081|1082|1083)$\n",
      "Test IDs regex:     ^(1084|1085|1086|1087|1088|1089|1090|1091|1092|1093|1094|1095|1096|1097|1098|1099|1100|1101|1102|1103|1104|1105|1106|1107|1108|1109|1110|1111|1112|1113|1114|1115|1116|1117|1118|1119|1120|1121|1122|1123|1124|1125|1126|1127|1128|1129|1130|1131|1132|1133|1134|1135|1136|1137|1138|1139|1140|1141|1142|1143|1144|1145|1146|1147|1148|1149|1150|1151|1152|1153|1154|1155|1156|1157|1158|1159|1160|1161|1162|1163|1164|1165|1166|1167|1168|1169|1170|1171|1172|1173|1174|1175|1176|1177|1178|1179|1180|1181|1182|1183|1184|1185|1186|1187|1188|1189|1190|1191|1192|1193|1194|1195|1196|1197|1198|1199|1200|1201|1202|1203)$\n"
     ]
    }
   ],
   "source": [
    "# --- Extract ID lists per split ---\n",
    "train_ids    = df.loc[df[\"split\"] == \"train\",     \"ID\"].astype(str).tolist()\n",
    "validate_ids = df.loc[df[\"split\"] == \"validation\",\"ID\"].astype(str).tolist()\n",
    "test_ids     = df.loc[df[\"split\"] == \"test\",      \"ID\"].astype(str).tolist()\n",
    "\n",
    "# --- Step 3: Create regex strings ---\n",
    "train_regex    = \"^(\" + \"|\".join(train_ids)    + \")$\"\n",
    "validate_regex = \"^(\" + \"|\".join(validate_ids) + \")$\"\n",
    "test_regex     = \"^(\" + \"|\".join(test_ids)     + \")$\"\n",
    "\n",
    "# Print the regex strings\n",
    "print(\"Train IDs regex:   \", train_regex)\n",
    "print(\"Validate IDs regex:\", validate_regex)\n",
    "print(\"Test IDs regex:    \", test_regex)\n"
   ]
  },
  {
   "cell_type": "code",
   "execution_count": 207,
   "metadata": {},
   "outputs": [],
   "source": [
    "train_filter = FilterDefinition(\n",
    "    type=FilterType.WHERE,\n",
    "    column=\"id\",        # Column name\n",
    "    operator=\"REGEXP\",      # 'in' operator for checking membership\n",
    "    value=train_regex  # Join IDs into a comma-separated string\n",
    ")"
   ]
  },
  {
   "cell_type": "code",
   "execution_count": 208,
   "metadata": {},
   "outputs": [],
   "source": [
    "validation_filter = FilterDefinition(\n",
    "    type=FilterType.WHERE,\n",
    "    column=\"id\",        # Column name\n",
    "    operator=\"REGEXP\",      # 'in' operator for checking membership\n",
    "    value=validate_regex  # Join IDs into a comma-separated string\n",
    ")"
   ]
  },
  {
   "cell_type": "code",
   "execution_count": 209,
   "metadata": {},
   "outputs": [],
   "source": [
    "test_filter = FilterDefinition(\n",
    "    type=FilterType.WHERE,\n",
    "    column=\"id\",        # Column name\n",
    "    operator=\"REGEXP\",      # 'in' operator for checking membership\n",
    "    value=test_regex  # Join IDs into a comma-separated string\n",
    ")"
   ]
  },
  {
   "cell_type": "code",
   "execution_count": 235,
   "metadata": {},
   "outputs": [
    {
     "name": "stdout",
     "output_type": "stream",
     "text": [
      "2025-04-28 17:02:42,911 root         INFO   Created subset with id: 304d946a-2440-11f0-bf18-c60333c11641\n",
      "                    head         relationship                   tail    id\n",
      "0                Cancuén             base_for        Sylvanus Morley  1084\n",
      "1                 Xultún             base_for        Sylvanus Morley  1085\n",
      "2                 London             base_for         Vladimir Mefty  1086\n",
      "3            Switzerland    transit_point_for       Morgantina Venus  1087\n",
      "4          United States    transit_point_for  El Zotz Wooden Lintel  1088\n",
      "..                   ...                  ...                    ...   ...\n",
      "115  Lawrence Fleischman      implicated_with            Marion True  1199\n",
      "116         Robert Hecht  sold_antiquities_to            Marion True  1200\n",
      "117       Giacomo Medici  sold_antiquities_to            Marion True  1201\n",
      "118         Robert Hecht      implicated_with            Marion True  1202\n",
      "119       Giacomo Medici      implicated_with            Marion True  1203\n",
      "\n",
      "[120 rows x 4 columns]\n"
     ]
    }
   ],
   "source": [
    "test_query = QueryDefinition(\n",
    "    table=\"illicit_antiques_trade_network\",  # Table name,  # Table name\n",
    "    columns=[\"head\", \"relationship\", \"tail\", \"id\"],  # Select all columns\n",
    "    filter = [test_filter]\n",
    ")\n",
    "\n",
    "\n",
    "# Initialize variables for pagination\n",
    "page = 0\n",
    "size = 4000  # You can adjust this to a higher value to reduce the number of pages\n",
    "all_data = []\n",
    "\n",
    "# Call create_subset with the required parameters\n",
    "timestamp = datetime.datetime.now()  # Optional, set to None to query current data\n",
    "\n",
    "\n",
    "    # Call the create_subset method with the current page and size\n",
    "result = client.create_subset(\n",
    "        database_id=database_id,\n",
    "        query=test_query,\n",
    "        page=page,\n",
    "        size=size,\n",
    "        timestamp=timestamp\n",
    "    )\n",
    "    \n",
    "   \n",
    "# Now, final_data contains all the records\n",
    "print(result)"
   ]
  },
  {
   "cell_type": "code",
   "execution_count": 226,
   "metadata": {},
   "outputs": [
    {
     "data": {
      "text/html": [
       "<div>\n",
       "<style scoped>\n",
       "    .dataframe tbody tr th:only-of-type {\n",
       "        vertical-align: middle;\n",
       "    }\n",
       "\n",
       "    .dataframe tbody tr th {\n",
       "        vertical-align: top;\n",
       "    }\n",
       "\n",
       "    .dataframe thead th {\n",
       "        text-align: right;\n",
       "    }\n",
       "</style>\n",
       "<table border=\"1\" class=\"dataframe\">\n",
       "  <thead>\n",
       "    <tr style=\"text-align: right;\">\n",
       "      <th></th>\n",
       "      <th>id</th>\n",
       "      <th>head</th>\n",
       "      <th>relationship</th>\n",
       "      <th>tail</th>\n",
       "    </tr>\n",
       "  </thead>\n",
       "  <tbody>\n",
       "    <tr>\n",
       "      <th>0</th>\n",
       "      <td>1084</td>\n",
       "      <td>Cancuén</td>\n",
       "      <td>base_for</td>\n",
       "      <td>Sylvanus Morley</td>\n",
       "    </tr>\n",
       "    <tr>\n",
       "      <th>1</th>\n",
       "      <td>1085</td>\n",
       "      <td>Xultún</td>\n",
       "      <td>base_for</td>\n",
       "      <td>Sylvanus Morley</td>\n",
       "    </tr>\n",
       "    <tr>\n",
       "      <th>2</th>\n",
       "      <td>1086</td>\n",
       "      <td>London</td>\n",
       "      <td>base_for</td>\n",
       "      <td>Vladimir Mefty</td>\n",
       "    </tr>\n",
       "    <tr>\n",
       "      <th>3</th>\n",
       "      <td>1087</td>\n",
       "      <td>Switzerland</td>\n",
       "      <td>transit_point_for</td>\n",
       "      <td>Morgantina Venus</td>\n",
       "    </tr>\n",
       "    <tr>\n",
       "      <th>4</th>\n",
       "      <td>1088</td>\n",
       "      <td>United States</td>\n",
       "      <td>transit_point_for</td>\n",
       "      <td>El Zotz Wooden Lintel</td>\n",
       "    </tr>\n",
       "    <tr>\n",
       "      <th>5</th>\n",
       "      <td>1089</td>\n",
       "      <td>Switzerland</td>\n",
       "      <td>transit_point_for</td>\n",
       "      <td>Euphronios ( Sarpedon ) krater</td>\n",
       "    </tr>\n",
       "    <tr>\n",
       "      <th>6</th>\n",
       "      <td>1090</td>\n",
       "      <td>United States</td>\n",
       "      <td>transit_point_for</td>\n",
       "      <td>red-on-buff decorated pottery</td>\n",
       "    </tr>\n",
       "    <tr>\n",
       "      <th>7</th>\n",
       "      <td>1091</td>\n",
       "      <td>Japan</td>\n",
       "      <td>transit_point_for</td>\n",
       "      <td>El Salvadore</td>\n",
       "    </tr>\n",
       "    <tr>\n",
       "      <th>8</th>\n",
       "      <td>1092</td>\n",
       "      <td>Saudi Arabia</td>\n",
       "      <td>transit_point_for</td>\n",
       "      <td>El Salvadore</td>\n",
       "    </tr>\n",
       "    <tr>\n",
       "      <th>9</th>\n",
       "      <td>1093</td>\n",
       "      <td>United States</td>\n",
       "      <td>transit_point_for</td>\n",
       "      <td>El Salvadore</td>\n",
       "    </tr>\n",
       "  </tbody>\n",
       "</table>\n",
       "</div>"
      ],
      "text/plain": [
       "     id           head       relationship                            tail\n",
       "0  1084        Cancuén           base_for                 Sylvanus Morley\n",
       "1  1085         Xultún           base_for                 Sylvanus Morley\n",
       "2  1086         London           base_for                  Vladimir Mefty\n",
       "3  1087    Switzerland  transit_point_for                Morgantina Venus\n",
       "4  1088  United States  transit_point_for           El Zotz Wooden Lintel\n",
       "5  1089    Switzerland  transit_point_for  Euphronios ( Sarpedon ) krater\n",
       "6  1090  United States  transit_point_for   red-on-buff decorated pottery\n",
       "7  1091          Japan  transit_point_for                    El Salvadore\n",
       "8  1092   Saudi Arabia  transit_point_for                    El Salvadore\n",
       "9  1093  United States  transit_point_for                    El Salvadore"
      ]
     },
     "execution_count": 226,
     "metadata": {},
     "output_type": "execute_result"
    }
   ],
   "source": [
    "client.get_subset_data(database_id, \"304d946a-2440-11f0-bf18-c60333c11641\",  0, 10)"
   ]
  },
  {
   "cell_type": "code",
   "execution_count": 229,
   "metadata": {},
   "outputs": [
    {
     "ename": "ValidationError",
     "evalue": "3 validation errors for Query\ntype\n  Input should be 'view' or 'query' [type=enum, input_value=None, input_type=NoneType]\n    For further information visit https://errors.pydantic.dev/2.11/v/enum\nquery_normalized\n  Input should be a valid string [type=string_type, input_value=None, input_type=NoneType]\n    For further information visit https://errors.pydantic.dev/2.11/v/string_type\nidentifiers\n  Input should be a valid list [type=list_type, input_value=None, input_type=NoneType]\n    For further information visit https://errors.pydantic.dev/2.11/v/list_type",
     "output_type": "error",
     "traceback": [
      "\u001b[31m---------------------------------------------------------------------------\u001b[39m",
      "\u001b[31mValidationError\u001b[39m                           Traceback (most recent call last)",
      "\u001b[36mCell\u001b[39m\u001b[36m \u001b[39m\u001b[32mIn[229]\u001b[39m\u001b[32m, line 1\u001b[39m\n\u001b[32m----> \u001b[39m\u001b[32m1\u001b[39m \u001b[43mclient\u001b[49m\u001b[43m.\u001b[49m\u001b[43mupdate_subset\u001b[49m\u001b[43m(\u001b[49m\u001b[43mdatabase_id\u001b[49m\u001b[43m,\u001b[49m\u001b[33;43m\"\u001b[39;49m\u001b[33;43m304d946a-2440-11f0-bf18-c60333c11641\u001b[39;49m\u001b[33;43m\"\u001b[39;49m\u001b[43m,\u001b[49m\u001b[38;5;28;43;01mTrue\u001b[39;49;00m\u001b[43m)\u001b[49m\n",
      "\u001b[36mFile \u001b[39m\u001b[32m~/Uni/InfoSysteme/Data setwardship/trial/.venv/lib/python3.11/site-packages/dbrepo/RestClient.py:1523\u001b[39m, in \u001b[36mRestClient.update_subset\u001b[39m\u001b[34m(self, database_id, subset_id, persist)\u001b[39m\n\u001b[32m   1521\u001b[39m \u001b[38;5;28;01mif\u001b[39;00m response.status_code == \u001b[32m202\u001b[39m:\n\u001b[32m   1522\u001b[39m     body = response.json()\n\u001b[32m-> \u001b[39m\u001b[32m1523\u001b[39m     \u001b[38;5;28;01mreturn\u001b[39;00m \u001b[43mQuery\u001b[49m\u001b[43m.\u001b[49m\u001b[43mmodel_validate\u001b[49m\u001b[43m(\u001b[49m\u001b[43mbody\u001b[49m\u001b[43m)\u001b[49m\n\u001b[32m   1524\u001b[39m \u001b[38;5;28;01mif\u001b[39;00m response.status_code == \u001b[32m400\u001b[39m:\n\u001b[32m   1525\u001b[39m     \u001b[38;5;28;01mraise\u001b[39;00m MalformedError(\u001b[33mf\u001b[39m\u001b[33m'\u001b[39m\u001b[33mFailed to update query: \u001b[39m\u001b[38;5;132;01m{\u001b[39;00mresponse.text\u001b[38;5;132;01m}\u001b[39;00m\u001b[33m'\u001b[39m)\n",
      "\u001b[36mFile \u001b[39m\u001b[32m~/Uni/InfoSysteme/Data setwardship/trial/.venv/lib/python3.11/site-packages/pydantic/main.py:703\u001b[39m, in \u001b[36mBaseModel.model_validate\u001b[39m\u001b[34m(cls, obj, strict, from_attributes, context, by_alias, by_name)\u001b[39m\n\u001b[32m    697\u001b[39m \u001b[38;5;28;01mif\u001b[39;00m by_alias \u001b[38;5;129;01mis\u001b[39;00m \u001b[38;5;28;01mFalse\u001b[39;00m \u001b[38;5;129;01mand\u001b[39;00m by_name \u001b[38;5;129;01mis\u001b[39;00m \u001b[38;5;129;01mnot\u001b[39;00m \u001b[38;5;28;01mTrue\u001b[39;00m:\n\u001b[32m    698\u001b[39m     \u001b[38;5;28;01mraise\u001b[39;00m PydanticUserError(\n\u001b[32m    699\u001b[39m         \u001b[33m'\u001b[39m\u001b[33mAt least one of `by_alias` or `by_name` must be set to True.\u001b[39m\u001b[33m'\u001b[39m,\n\u001b[32m    700\u001b[39m         code=\u001b[33m'\u001b[39m\u001b[33mvalidate-by-alias-and-name-false\u001b[39m\u001b[33m'\u001b[39m,\n\u001b[32m    701\u001b[39m     )\n\u001b[32m--> \u001b[39m\u001b[32m703\u001b[39m \u001b[38;5;28;01mreturn\u001b[39;00m \u001b[38;5;28;43mcls\u001b[39;49m\u001b[43m.\u001b[49m\u001b[43m__pydantic_validator__\u001b[49m\u001b[43m.\u001b[49m\u001b[43mvalidate_python\u001b[49m\u001b[43m(\u001b[49m\n\u001b[32m    704\u001b[39m \u001b[43m    \u001b[49m\u001b[43mobj\u001b[49m\u001b[43m,\u001b[49m\u001b[43m \u001b[49m\u001b[43mstrict\u001b[49m\u001b[43m=\u001b[49m\u001b[43mstrict\u001b[49m\u001b[43m,\u001b[49m\u001b[43m \u001b[49m\u001b[43mfrom_attributes\u001b[49m\u001b[43m=\u001b[49m\u001b[43mfrom_attributes\u001b[49m\u001b[43m,\u001b[49m\u001b[43m \u001b[49m\u001b[43mcontext\u001b[49m\u001b[43m=\u001b[49m\u001b[43mcontext\u001b[49m\u001b[43m,\u001b[49m\u001b[43m \u001b[49m\u001b[43mby_alias\u001b[49m\u001b[43m=\u001b[49m\u001b[43mby_alias\u001b[49m\u001b[43m,\u001b[49m\u001b[43m \u001b[49m\u001b[43mby_name\u001b[49m\u001b[43m=\u001b[49m\u001b[43mby_name\u001b[49m\n\u001b[32m    705\u001b[39m \u001b[43m\u001b[49m\u001b[43m)\u001b[49m\n",
      "\u001b[31mValidationError\u001b[39m: 3 validation errors for Query\ntype\n  Input should be 'view' or 'query' [type=enum, input_value=None, input_type=NoneType]\n    For further information visit https://errors.pydantic.dev/2.11/v/enum\nquery_normalized\n  Input should be a valid string [type=string_type, input_value=None, input_type=NoneType]\n    For further information visit https://errors.pydantic.dev/2.11/v/string_type\nidentifiers\n  Input should be a valid list [type=list_type, input_value=None, input_type=NoneType]\n    For further information visit https://errors.pydantic.dev/2.11/v/list_type"
     ]
    }
   ],
   "source": [
    "client.update_subset(database_id,\"304d946a-2440-11f0-bf18-c60333c11641\",True)"
   ]
  },
  {
   "cell_type": "code",
   "execution_count": 232,
   "metadata": {},
   "outputs": [
    {
     "name": "stdout",
     "output_type": "stream",
     "text": [
      "2025-04-28 17:01:30,228 root         INFO   Created subset with id: aa776d4d-2441-11f0-8632-66164a21a937\n",
      "                    head   relationship                           tail    id\n",
      "0                 London  auctioned_for                    Vaman Ghiya   963\n",
      "1               New York  auctioned_for                    Vaman Ghiya   964\n",
      "2              Sotheby's  auctioned_for                    Vaman Ghiya   965\n",
      "3          Mat Securitas    belonged_to                 Giacomo Medici   966\n",
      "4       Hôtel des Ventes  auctioned_for                    Guy Loudmer   967\n",
      "..                   ...            ...                            ...   ...\n",
      "116              Finland       base_for              Larisa Zavadskaya  1079\n",
      "117  Museum of Fine Arts      possessed                   Maya pottery  1080\n",
      "118                Perth       base_for                    Ong Soo Hin  1081\n",
      "119             New York       base_for            Phoenix Ancient Art  1082\n",
      "120        South America       base_for  Roger Cornelius Russell Yorke  1083\n",
      "\n",
      "[121 rows x 4 columns]\n"
     ]
    }
   ],
   "source": [
    "validation_query = QueryDefinition(\n",
    "    table=\"illicit_antiques_trade_network\",  # Table name,  # Table name\n",
    "    columns=[\"head\", \"relationship\", \"tail\", \"id\"],  # Select all columns\n",
    "    filter = [validation_filter]\n",
    ")\n",
    "\n",
    "\n",
    "# Initialize variables for pagination\n",
    "page = 0\n",
    "size = 4000  # You can adjust this to a higher value to reduce the number of pages\n",
    "all_data = []\n",
    "\n",
    "# Call create_subset with the required parameters\n",
    "timestamp = datetime.datetime.now()  # Optional, set to None to query current data\n",
    "\n",
    "\n",
    "    # Call the create_subset method with the current page and size\n",
    "result = client.create_subset(\n",
    "        database_id=database_id,\n",
    "        query=validation_query,\n",
    "        page=page,\n",
    "        size=size,\n",
    "        timestamp=timestamp\n",
    "    )\n",
    "    \n",
    "   \n",
    "# Now, final_data contains all the records\n",
    "print(result)"
   ]
  },
  {
   "cell_type": "code",
   "execution_count": 233,
   "metadata": {},
   "outputs": [
    {
     "data": {
      "text/html": [
       "<div>\n",
       "<style scoped>\n",
       "    .dataframe tbody tr th:only-of-type {\n",
       "        vertical-align: middle;\n",
       "    }\n",
       "\n",
       "    .dataframe tbody tr th {\n",
       "        vertical-align: top;\n",
       "    }\n",
       "\n",
       "    .dataframe thead th {\n",
       "        text-align: right;\n",
       "    }\n",
       "</style>\n",
       "<table border=\"1\" class=\"dataframe\">\n",
       "  <thead>\n",
       "    <tr style=\"text-align: right;\">\n",
       "      <th></th>\n",
       "      <th>id</th>\n",
       "      <th>head</th>\n",
       "      <th>relationship</th>\n",
       "      <th>tail</th>\n",
       "    </tr>\n",
       "  </thead>\n",
       "  <tbody>\n",
       "    <tr>\n",
       "      <th>0</th>\n",
       "      <td>963</td>\n",
       "      <td>London</td>\n",
       "      <td>auctioned_for</td>\n",
       "      <td>Vaman Ghiya</td>\n",
       "    </tr>\n",
       "    <tr>\n",
       "      <th>1</th>\n",
       "      <td>964</td>\n",
       "      <td>New York</td>\n",
       "      <td>auctioned_for</td>\n",
       "      <td>Vaman Ghiya</td>\n",
       "    </tr>\n",
       "    <tr>\n",
       "      <th>2</th>\n",
       "      <td>965</td>\n",
       "      <td>Sotheby's</td>\n",
       "      <td>auctioned_for</td>\n",
       "      <td>Vaman Ghiya</td>\n",
       "    </tr>\n",
       "    <tr>\n",
       "      <th>3</th>\n",
       "      <td>966</td>\n",
       "      <td>Mat Securitas</td>\n",
       "      <td>belonged_to</td>\n",
       "      <td>Giacomo Medici</td>\n",
       "    </tr>\n",
       "    <tr>\n",
       "      <th>4</th>\n",
       "      <td>967</td>\n",
       "      <td>Hôtel des Ventes</td>\n",
       "      <td>auctioned_for</td>\n",
       "      <td>Guy Loudmer</td>\n",
       "    </tr>\n",
       "    <tr>\n",
       "      <th>5</th>\n",
       "      <td>968</td>\n",
       "      <td>Hôtel des Ventes</td>\n",
       "      <td>auctioned_for</td>\n",
       "      <td>Hervé Poulin</td>\n",
       "    </tr>\n",
       "    <tr>\n",
       "      <th>6</th>\n",
       "      <td>969</td>\n",
       "      <td>eBay</td>\n",
       "      <td>auctioned_for</td>\n",
       "      <td>Hoi An ceramics</td>\n",
       "    </tr>\n",
       "    <tr>\n",
       "      <th>7</th>\n",
       "      <td>970</td>\n",
       "      <td>Arts of Asia</td>\n",
       "      <td>auctioned_for</td>\n",
       "      <td>John Eskenazi</td>\n",
       "    </tr>\n",
       "    <tr>\n",
       "      <th>8</th>\n",
       "      <td>971</td>\n",
       "      <td>Bonhams</td>\n",
       "      <td>auctioned_for</td>\n",
       "      <td>Joseph Garnish</td>\n",
       "    </tr>\n",
       "    <tr>\n",
       "      <th>9</th>\n",
       "      <td>972</td>\n",
       "      <td>Bonhams</td>\n",
       "      <td>auctioned_for</td>\n",
       "      <td>Marquis of Tavistock</td>\n",
       "    </tr>\n",
       "  </tbody>\n",
       "</table>\n",
       "</div>"
      ],
      "text/plain": [
       "    id              head   relationship                  tail\n",
       "0  963            London  auctioned_for           Vaman Ghiya\n",
       "1  964          New York  auctioned_for           Vaman Ghiya\n",
       "2  965         Sotheby's  auctioned_for           Vaman Ghiya\n",
       "3  966     Mat Securitas    belonged_to        Giacomo Medici\n",
       "4  967  Hôtel des Ventes  auctioned_for           Guy Loudmer\n",
       "5  968  Hôtel des Ventes  auctioned_for          Hervé Poulin\n",
       "6  969              eBay  auctioned_for       Hoi An ceramics\n",
       "7  970      Arts of Asia  auctioned_for         John Eskenazi\n",
       "8  971           Bonhams  auctioned_for        Joseph Garnish\n",
       "9  972           Bonhams  auctioned_for  Marquis of Tavistock"
      ]
     },
     "execution_count": 233,
     "metadata": {},
     "output_type": "execute_result"
    }
   ],
   "source": [
    "client.get_subset_data(database_id, \"aa776d4d-2441-11f0-8632-66164a21a937\",  0, 10)\n"
   ]
  },
  {
   "cell_type": "code",
   "execution_count": 234,
   "metadata": {},
   "outputs": [
    {
     "ename": "ValidationError",
     "evalue": "3 validation errors for Query\ntype\n  Input should be 'view' or 'query' [type=enum, input_value=None, input_type=NoneType]\n    For further information visit https://errors.pydantic.dev/2.11/v/enum\nquery_normalized\n  Input should be a valid string [type=string_type, input_value=None, input_type=NoneType]\n    For further information visit https://errors.pydantic.dev/2.11/v/string_type\nidentifiers\n  Input should be a valid list [type=list_type, input_value=None, input_type=NoneType]\n    For further information visit https://errors.pydantic.dev/2.11/v/list_type",
     "output_type": "error",
     "traceback": [
      "\u001b[31m---------------------------------------------------------------------------\u001b[39m",
      "\u001b[31mValidationError\u001b[39m                           Traceback (most recent call last)",
      "\u001b[36mCell\u001b[39m\u001b[36m \u001b[39m\u001b[32mIn[234]\u001b[39m\u001b[32m, line 1\u001b[39m\n\u001b[32m----> \u001b[39m\u001b[32m1\u001b[39m \u001b[43mclient\u001b[49m\u001b[43m.\u001b[49m\u001b[43mupdate_subset\u001b[49m\u001b[43m(\u001b[49m\u001b[43mdatabase_id\u001b[49m\u001b[43m,\u001b[49m\u001b[33;43m\"\u001b[39;49m\u001b[33;43maa776d4d-2441-11f0-8632-66164a21a937\u001b[39;49m\u001b[33;43m\"\u001b[39;49m\u001b[43m,\u001b[49m\u001b[38;5;28;43;01mTrue\u001b[39;49;00m\u001b[43m)\u001b[49m\n",
      "\u001b[36mFile \u001b[39m\u001b[32m~/Uni/InfoSysteme/Data setwardship/trial/.venv/lib/python3.11/site-packages/dbrepo/RestClient.py:1523\u001b[39m, in \u001b[36mRestClient.update_subset\u001b[39m\u001b[34m(self, database_id, subset_id, persist)\u001b[39m\n\u001b[32m   1521\u001b[39m \u001b[38;5;28;01mif\u001b[39;00m response.status_code == \u001b[32m202\u001b[39m:\n\u001b[32m   1522\u001b[39m     body = response.json()\n\u001b[32m-> \u001b[39m\u001b[32m1523\u001b[39m     \u001b[38;5;28;01mreturn\u001b[39;00m \u001b[43mQuery\u001b[49m\u001b[43m.\u001b[49m\u001b[43mmodel_validate\u001b[49m\u001b[43m(\u001b[49m\u001b[43mbody\u001b[49m\u001b[43m)\u001b[49m\n\u001b[32m   1524\u001b[39m \u001b[38;5;28;01mif\u001b[39;00m response.status_code == \u001b[32m400\u001b[39m:\n\u001b[32m   1525\u001b[39m     \u001b[38;5;28;01mraise\u001b[39;00m MalformedError(\u001b[33mf\u001b[39m\u001b[33m'\u001b[39m\u001b[33mFailed to update query: \u001b[39m\u001b[38;5;132;01m{\u001b[39;00mresponse.text\u001b[38;5;132;01m}\u001b[39;00m\u001b[33m'\u001b[39m)\n",
      "\u001b[36mFile \u001b[39m\u001b[32m~/Uni/InfoSysteme/Data setwardship/trial/.venv/lib/python3.11/site-packages/pydantic/main.py:703\u001b[39m, in \u001b[36mBaseModel.model_validate\u001b[39m\u001b[34m(cls, obj, strict, from_attributes, context, by_alias, by_name)\u001b[39m\n\u001b[32m    697\u001b[39m \u001b[38;5;28;01mif\u001b[39;00m by_alias \u001b[38;5;129;01mis\u001b[39;00m \u001b[38;5;28;01mFalse\u001b[39;00m \u001b[38;5;129;01mand\u001b[39;00m by_name \u001b[38;5;129;01mis\u001b[39;00m \u001b[38;5;129;01mnot\u001b[39;00m \u001b[38;5;28;01mTrue\u001b[39;00m:\n\u001b[32m    698\u001b[39m     \u001b[38;5;28;01mraise\u001b[39;00m PydanticUserError(\n\u001b[32m    699\u001b[39m         \u001b[33m'\u001b[39m\u001b[33mAt least one of `by_alias` or `by_name` must be set to True.\u001b[39m\u001b[33m'\u001b[39m,\n\u001b[32m    700\u001b[39m         code=\u001b[33m'\u001b[39m\u001b[33mvalidate-by-alias-and-name-false\u001b[39m\u001b[33m'\u001b[39m,\n\u001b[32m    701\u001b[39m     )\n\u001b[32m--> \u001b[39m\u001b[32m703\u001b[39m \u001b[38;5;28;01mreturn\u001b[39;00m \u001b[38;5;28;43mcls\u001b[39;49m\u001b[43m.\u001b[49m\u001b[43m__pydantic_validator__\u001b[49m\u001b[43m.\u001b[49m\u001b[43mvalidate_python\u001b[49m\u001b[43m(\u001b[49m\n\u001b[32m    704\u001b[39m \u001b[43m    \u001b[49m\u001b[43mobj\u001b[49m\u001b[43m,\u001b[49m\u001b[43m \u001b[49m\u001b[43mstrict\u001b[49m\u001b[43m=\u001b[49m\u001b[43mstrict\u001b[49m\u001b[43m,\u001b[49m\u001b[43m \u001b[49m\u001b[43mfrom_attributes\u001b[49m\u001b[43m=\u001b[49m\u001b[43mfrom_attributes\u001b[49m\u001b[43m,\u001b[49m\u001b[43m \u001b[49m\u001b[43mcontext\u001b[49m\u001b[43m=\u001b[49m\u001b[43mcontext\u001b[49m\u001b[43m,\u001b[49m\u001b[43m \u001b[49m\u001b[43mby_alias\u001b[49m\u001b[43m=\u001b[49m\u001b[43mby_alias\u001b[49m\u001b[43m,\u001b[49m\u001b[43m \u001b[49m\u001b[43mby_name\u001b[49m\u001b[43m=\u001b[49m\u001b[43mby_name\u001b[49m\n\u001b[32m    705\u001b[39m \u001b[43m\u001b[49m\u001b[43m)\u001b[49m\n",
      "\u001b[31mValidationError\u001b[39m: 3 validation errors for Query\ntype\n  Input should be 'view' or 'query' [type=enum, input_value=None, input_type=NoneType]\n    For further information visit https://errors.pydantic.dev/2.11/v/enum\nquery_normalized\n  Input should be a valid string [type=string_type, input_value=None, input_type=NoneType]\n    For further information visit https://errors.pydantic.dev/2.11/v/string_type\nidentifiers\n  Input should be a valid list [type=list_type, input_value=None, input_type=NoneType]\n    For further information visit https://errors.pydantic.dev/2.11/v/list_type"
     ]
    }
   ],
   "source": [
    "client.update_subset(database_id,\"aa776d4d-2441-11f0-8632-66164a21a937\",True)"
   ]
  },
  {
   "cell_type": "code",
   "execution_count": 237,
   "metadata": {},
   "outputs": [
    {
     "name": "stdout",
     "output_type": "stream",
     "text": [
      "2025-04-28 17:03:31,126 root         INFO   Created subset with id: f250b964-2441-11f0-bf18-c60333c11641\n",
      "                        head       relationship                  tail   id\n",
      "0              Abraham Trust          partnered    Geoffrey Jenkinson    1\n",
      "1    Benjamin Bishop Johnson  appraised_art_for         David Swetnam    2\n",
      "2               Donald Hales  appraised_art_for    Leonardo Patterson    3\n",
      "3             Giacomo Medici  appraised_art_for   Nikolas Koutoulakis    4\n",
      "4                 Jack Ogden  appraised_art_for  Michael Ward Gallery    5\n",
      "..                       ...                ...                   ...  ...\n",
      "957                     Asia         source_for          Robert Olson  958\n",
      "958                 Thailand         source_for          Robert Olson  959\n",
      "959                   Hoi An           base_for         Captain Trang  960\n",
      "960               Christie's      auctioned_for           Barry Stern  961\n",
      "961               Christie's      auctioned_for           Vaman Ghiya  962\n",
      "\n",
      "[962 rows x 4 columns]\n"
     ]
    }
   ],
   "source": [
    "train_query = QueryDefinition(\n",
    "    table=\"illicit_antiques_trade_network\",  # Table name\n",
    "    columns=[\"head\", \"relationship\", \"tail\", \"id\"],  # Select all columns\n",
    "    filter = [train_filter]\n",
    ")\n",
    "\n",
    "\n",
    "# Initialize variables for pagination\n",
    "page = 0\n",
    "size = 4000  # You can adjust this to a higher value to reduce the number of pages\n",
    "all_data = []\n",
    "\n",
    "# Call create_subset with the required parameters\n",
    "timestamp = datetime.datetime.now()  # Optional, set to None to query current data\n",
    "\n",
    "\n",
    "    # Call the create_subset method with the current page and size\n",
    "result = client.create_subset(\n",
    "        database_id=database_id,\n",
    "        query=train_query,\n",
    "        page=page,\n",
    "        size=size,\n",
    "        timestamp=timestamp\n",
    "    )\n",
    "    \n",
    "   \n",
    "# Now, final_data contains all the records\n",
    "print(result)"
   ]
  },
  {
   "cell_type": "code",
   "execution_count": 238,
   "metadata": {},
   "outputs": [
    {
     "data": {
      "text/html": [
       "<div>\n",
       "<style scoped>\n",
       "    .dataframe tbody tr th:only-of-type {\n",
       "        vertical-align: middle;\n",
       "    }\n",
       "\n",
       "    .dataframe tbody tr th {\n",
       "        vertical-align: top;\n",
       "    }\n",
       "\n",
       "    .dataframe thead th {\n",
       "        text-align: right;\n",
       "    }\n",
       "</style>\n",
       "<table border=\"1\" class=\"dataframe\">\n",
       "  <thead>\n",
       "    <tr style=\"text-align: right;\">\n",
       "      <th></th>\n",
       "      <th>id</th>\n",
       "      <th>head</th>\n",
       "      <th>relationship</th>\n",
       "      <th>tail</th>\n",
       "    </tr>\n",
       "  </thead>\n",
       "  <tbody>\n",
       "    <tr>\n",
       "      <th>0</th>\n",
       "      <td>1</td>\n",
       "      <td>Abraham Trust</td>\n",
       "      <td>partnered</td>\n",
       "      <td>Geoffrey Jenkinson</td>\n",
       "    </tr>\n",
       "    <tr>\n",
       "      <th>1</th>\n",
       "      <td>2</td>\n",
       "      <td>Benjamin Bishop Johnson</td>\n",
       "      <td>appraised_art_for</td>\n",
       "      <td>David Swetnam</td>\n",
       "    </tr>\n",
       "    <tr>\n",
       "      <th>2</th>\n",
       "      <td>3</td>\n",
       "      <td>Donald Hales</td>\n",
       "      <td>appraised_art_for</td>\n",
       "      <td>Leonardo Patterson</td>\n",
       "    </tr>\n",
       "    <tr>\n",
       "      <th>3</th>\n",
       "      <td>4</td>\n",
       "      <td>Giacomo Medici</td>\n",
       "      <td>appraised_art_for</td>\n",
       "      <td>Nikolas Koutoulakis</td>\n",
       "    </tr>\n",
       "    <tr>\n",
       "      <th>4</th>\n",
       "      <td>5</td>\n",
       "      <td>Jack Ogden</td>\n",
       "      <td>appraised_art_for</td>\n",
       "      <td>Michael Ward Gallery</td>\n",
       "    </tr>\n",
       "    <tr>\n",
       "      <th>5</th>\n",
       "      <td>6</td>\n",
       "      <td>Joel Malter</td>\n",
       "      <td>appraised_art_for</td>\n",
       "      <td>Robert Olson</td>\n",
       "    </tr>\n",
       "    <tr>\n",
       "      <th>6</th>\n",
       "      <td>7</td>\n",
       "      <td>John Betts</td>\n",
       "      <td>appraised_art_for</td>\n",
       "      <td>Michael Ward Gallery</td>\n",
       "    </tr>\n",
       "    <tr>\n",
       "      <th>7</th>\n",
       "      <td>8</td>\n",
       "      <td>Paul Clifford</td>\n",
       "      <td>appraised_art_for</td>\n",
       "      <td>Leonardo Patterson</td>\n",
       "    </tr>\n",
       "    <tr>\n",
       "      <th>8</th>\n",
       "      <td>9</td>\n",
       "      <td>Roxanna Brown</td>\n",
       "      <td>appraised_art_for</td>\n",
       "      <td>Jonathan and Cari Markell</td>\n",
       "    </tr>\n",
       "    <tr>\n",
       "      <th>9</th>\n",
       "      <td>10</td>\n",
       "      <td>Edward Johnson</td>\n",
       "      <td>caught_by</td>\n",
       "      <td>Immigration and Customs Enforcement</td>\n",
       "    </tr>\n",
       "  </tbody>\n",
       "</table>\n",
       "</div>"
      ],
      "text/plain": [
       "   id                     head       relationship  \\\n",
       "0   1            Abraham Trust          partnered   \n",
       "1   2  Benjamin Bishop Johnson  appraised_art_for   \n",
       "2   3             Donald Hales  appraised_art_for   \n",
       "3   4           Giacomo Medici  appraised_art_for   \n",
       "4   5               Jack Ogden  appraised_art_for   \n",
       "5   6              Joel Malter  appraised_art_for   \n",
       "6   7               John Betts  appraised_art_for   \n",
       "7   8            Paul Clifford  appraised_art_for   \n",
       "8   9            Roxanna Brown  appraised_art_for   \n",
       "9  10           Edward Johnson          caught_by   \n",
       "\n",
       "                                  tail  \n",
       "0                   Geoffrey Jenkinson  \n",
       "1                        David Swetnam  \n",
       "2                   Leonardo Patterson  \n",
       "3                  Nikolas Koutoulakis  \n",
       "4                 Michael Ward Gallery  \n",
       "5                         Robert Olson  \n",
       "6                 Michael Ward Gallery  \n",
       "7                   Leonardo Patterson  \n",
       "8            Jonathan and Cari Markell  \n",
       "9  Immigration and Customs Enforcement  "
      ]
     },
     "execution_count": 238,
     "metadata": {},
     "output_type": "execute_result"
    }
   ],
   "source": [
    "client.get_subset_data(database_id, \"f250b964-2441-11f0-bf18-c60333c11641\",  0, 10)"
   ]
  },
  {
   "cell_type": "code",
   "execution_count": 239,
   "metadata": {},
   "outputs": [
    {
     "ename": "ValidationError",
     "evalue": "3 validation errors for Query\ntype\n  Input should be 'view' or 'query' [type=enum, input_value=None, input_type=NoneType]\n    For further information visit https://errors.pydantic.dev/2.11/v/enum\nquery_normalized\n  Input should be a valid string [type=string_type, input_value=None, input_type=NoneType]\n    For further information visit https://errors.pydantic.dev/2.11/v/string_type\nidentifiers\n  Input should be a valid list [type=list_type, input_value=None, input_type=NoneType]\n    For further information visit https://errors.pydantic.dev/2.11/v/list_type",
     "output_type": "error",
     "traceback": [
      "\u001b[31m---------------------------------------------------------------------------\u001b[39m",
      "\u001b[31mValidationError\u001b[39m                           Traceback (most recent call last)",
      "\u001b[36mCell\u001b[39m\u001b[36m \u001b[39m\u001b[32mIn[239]\u001b[39m\u001b[32m, line 1\u001b[39m\n\u001b[32m----> \u001b[39m\u001b[32m1\u001b[39m \u001b[43mclient\u001b[49m\u001b[43m.\u001b[49m\u001b[43mupdate_subset\u001b[49m\u001b[43m(\u001b[49m\u001b[43mdatabase_id\u001b[49m\u001b[43m,\u001b[49m\u001b[33;43m\"\u001b[39;49m\u001b[33;43mf250b964-2441-11f0-bf18-c60333c11641\u001b[39;49m\u001b[33;43m\"\u001b[39;49m\u001b[43m,\u001b[49m\u001b[38;5;28;43;01mTrue\u001b[39;49;00m\u001b[43m)\u001b[49m\n",
      "\u001b[36mFile \u001b[39m\u001b[32m~/Uni/InfoSysteme/Data setwardship/trial/.venv/lib/python3.11/site-packages/dbrepo/RestClient.py:1523\u001b[39m, in \u001b[36mRestClient.update_subset\u001b[39m\u001b[34m(self, database_id, subset_id, persist)\u001b[39m\n\u001b[32m   1521\u001b[39m \u001b[38;5;28;01mif\u001b[39;00m response.status_code == \u001b[32m202\u001b[39m:\n\u001b[32m   1522\u001b[39m     body = response.json()\n\u001b[32m-> \u001b[39m\u001b[32m1523\u001b[39m     \u001b[38;5;28;01mreturn\u001b[39;00m \u001b[43mQuery\u001b[49m\u001b[43m.\u001b[49m\u001b[43mmodel_validate\u001b[49m\u001b[43m(\u001b[49m\u001b[43mbody\u001b[49m\u001b[43m)\u001b[49m\n\u001b[32m   1524\u001b[39m \u001b[38;5;28;01mif\u001b[39;00m response.status_code == \u001b[32m400\u001b[39m:\n\u001b[32m   1525\u001b[39m     \u001b[38;5;28;01mraise\u001b[39;00m MalformedError(\u001b[33mf\u001b[39m\u001b[33m'\u001b[39m\u001b[33mFailed to update query: \u001b[39m\u001b[38;5;132;01m{\u001b[39;00mresponse.text\u001b[38;5;132;01m}\u001b[39;00m\u001b[33m'\u001b[39m)\n",
      "\u001b[36mFile \u001b[39m\u001b[32m~/Uni/InfoSysteme/Data setwardship/trial/.venv/lib/python3.11/site-packages/pydantic/main.py:703\u001b[39m, in \u001b[36mBaseModel.model_validate\u001b[39m\u001b[34m(cls, obj, strict, from_attributes, context, by_alias, by_name)\u001b[39m\n\u001b[32m    697\u001b[39m \u001b[38;5;28;01mif\u001b[39;00m by_alias \u001b[38;5;129;01mis\u001b[39;00m \u001b[38;5;28;01mFalse\u001b[39;00m \u001b[38;5;129;01mand\u001b[39;00m by_name \u001b[38;5;129;01mis\u001b[39;00m \u001b[38;5;129;01mnot\u001b[39;00m \u001b[38;5;28;01mTrue\u001b[39;00m:\n\u001b[32m    698\u001b[39m     \u001b[38;5;28;01mraise\u001b[39;00m PydanticUserError(\n\u001b[32m    699\u001b[39m         \u001b[33m'\u001b[39m\u001b[33mAt least one of `by_alias` or `by_name` must be set to True.\u001b[39m\u001b[33m'\u001b[39m,\n\u001b[32m    700\u001b[39m         code=\u001b[33m'\u001b[39m\u001b[33mvalidate-by-alias-and-name-false\u001b[39m\u001b[33m'\u001b[39m,\n\u001b[32m    701\u001b[39m     )\n\u001b[32m--> \u001b[39m\u001b[32m703\u001b[39m \u001b[38;5;28;01mreturn\u001b[39;00m \u001b[38;5;28;43mcls\u001b[39;49m\u001b[43m.\u001b[49m\u001b[43m__pydantic_validator__\u001b[49m\u001b[43m.\u001b[49m\u001b[43mvalidate_python\u001b[49m\u001b[43m(\u001b[49m\n\u001b[32m    704\u001b[39m \u001b[43m    \u001b[49m\u001b[43mobj\u001b[49m\u001b[43m,\u001b[49m\u001b[43m \u001b[49m\u001b[43mstrict\u001b[49m\u001b[43m=\u001b[49m\u001b[43mstrict\u001b[49m\u001b[43m,\u001b[49m\u001b[43m \u001b[49m\u001b[43mfrom_attributes\u001b[49m\u001b[43m=\u001b[49m\u001b[43mfrom_attributes\u001b[49m\u001b[43m,\u001b[49m\u001b[43m \u001b[49m\u001b[43mcontext\u001b[49m\u001b[43m=\u001b[49m\u001b[43mcontext\u001b[49m\u001b[43m,\u001b[49m\u001b[43m \u001b[49m\u001b[43mby_alias\u001b[49m\u001b[43m=\u001b[49m\u001b[43mby_alias\u001b[49m\u001b[43m,\u001b[49m\u001b[43m \u001b[49m\u001b[43mby_name\u001b[49m\u001b[43m=\u001b[49m\u001b[43mby_name\u001b[49m\n\u001b[32m    705\u001b[39m \u001b[43m\u001b[49m\u001b[43m)\u001b[49m\n",
      "\u001b[31mValidationError\u001b[39m: 3 validation errors for Query\ntype\n  Input should be 'view' or 'query' [type=enum, input_value=None, input_type=NoneType]\n    For further information visit https://errors.pydantic.dev/2.11/v/enum\nquery_normalized\n  Input should be a valid string [type=string_type, input_value=None, input_type=NoneType]\n    For further information visit https://errors.pydantic.dev/2.11/v/string_type\nidentifiers\n  Input should be a valid list [type=list_type, input_value=None, input_type=NoneType]\n    For further information visit https://errors.pydantic.dev/2.11/v/list_type"
     ]
    }
   ],
   "source": [
    "client.update_subset(database_id,\"f250b964-2441-11f0-bf18-c60333c11641\",True)"
   ]
  },
  {
   "cell_type": "code",
   "execution_count": 240,
   "metadata": {},
   "outputs": [
    {
     "data": {
      "text/plain": [
       "[('304d946a-2440-11f0-bf18-c60333c11641', '<no-title>'),\n",
       " ('aa776d4d-2441-11f0-8632-66164a21a937', '<no-title>'),\n",
       " ('f250b964-2441-11f0-bf18-c60333c11641', '<no-title>')]"
      ]
     },
     "execution_count": 240,
     "metadata": {},
     "output_type": "execute_result"
    }
   ],
   "source": [
    "get_all_subsets(client, database_id)"
   ]
  },
  {
   "cell_type": "markdown",
   "metadata": {},
   "source": [
    "## Identification - fails and is not documented properly :("
   ]
  },
  {
   "cell_type": "code",
   "execution_count": 241,
   "metadata": {},
   "outputs": [],
   "source": [
    "from dbrepo.api.dto import License\n",
    "# Create a License instance\n",
    "license = License(\n",
    "    identifier=\"CC-BY-4.0\",  # License identifier, for example, the license code\n",
    "    uri=\"https://creativecommons.org/licenses/by/4.0/\",  # URI pointing to the license details\n",
    "    description=\"This is a Creative Commons Attribution 4.0 International License\"  # Description of the license\n",
    ")\n"
   ]
  },
  {
   "cell_type": "code",
   "execution_count": 246,
   "metadata": {},
   "outputs": [
    {
     "ename": "ValidationError",
     "evalue": "1 validation error for CreateIdentifier\ndescriptions\n  Input should be a valid list [type=list_type, input_value=None, input_type=NoneType]\n    For further information visit https://errors.pydantic.dev/2.11/v/list_type",
     "output_type": "error",
     "traceback": [
      "\u001b[31m---------------------------------------------------------------------------\u001b[39m",
      "\u001b[31mValidationError\u001b[39m                           Traceback (most recent call last)",
      "\u001b[36mCell\u001b[39m\u001b[36m \u001b[39m\u001b[32mIn[246]\u001b[39m\u001b[32m, line 7\u001b[39m\n\u001b[32m      1\u001b[39m \u001b[38;5;28;01mfrom\u001b[39;00m\u001b[38;5;250m \u001b[39m\u001b[34;01mdbrepo\u001b[39;00m\u001b[34;01m.\u001b[39;00m\u001b[34;01mRestClient\u001b[39;00m\u001b[38;5;250m \u001b[39m\u001b[38;5;28;01mimport\u001b[39;00m RestClient\n\u001b[32m      2\u001b[39m \u001b[38;5;28;01mfrom\u001b[39;00m\u001b[38;5;250m \u001b[39m\u001b[34;01mdbrepo\u001b[39;00m\u001b[34;01m.\u001b[39;00m\u001b[34;01mapi\u001b[39;00m\u001b[34;01m.\u001b[39;00m\u001b[34;01mdto\u001b[39;00m\u001b[38;5;250m \u001b[39m\u001b[38;5;28;01mimport\u001b[39;00m IdentifierType, CreateIdentifierFunder, CreateIdentifierDescription, \\\n\u001b[32m      3\u001b[39m     CreateIdentifierTitle, Identifier, CreateIdentifierCreator, CreateRelatedIdentifier, RelatedIdentifierType, \\\n\u001b[32m      4\u001b[39m     RelatedIdentifierRelation\n\u001b[32m----> \u001b[39m\u001b[32m7\u001b[39m \u001b[43mclient\u001b[49m\u001b[43m.\u001b[49m\u001b[43mcreate_identifier\u001b[49m\u001b[43m(\u001b[49m\n\u001b[32m      8\u001b[39m \u001b[43m    \u001b[49m\u001b[43mdatabase_id\u001b[49m\u001b[43m=\u001b[49m\u001b[43mdatabase_id\u001b[49m\u001b[43m,\u001b[49m\u001b[43m \u001b[49m\n\u001b[32m      9\u001b[39m \u001b[43m    \u001b[49m\u001b[38;5;28;43mtype\u001b[39;49m\u001b[43m \u001b[49m\u001b[43m=\u001b[49m\u001b[43m \u001b[49m\u001b[43mIdentifierType\u001b[49m\u001b[43m.\u001b[49m\u001b[43mDATABASE\u001b[49m\u001b[43m,\u001b[49m\u001b[43m \u001b[49m\n\u001b[32m     10\u001b[39m \u001b[43m    \u001b[49m\u001b[43mtitles\u001b[49m\u001b[43m=\u001b[49m\u001b[43m[\u001b[49m\u001b[43mCreateIdentifierTitle\u001b[49m\u001b[43m(\u001b[49m\u001b[43mtitle\u001b[49m\u001b[43m=\u001b[49m\u001b[33;43m\"\u001b[39;49m\u001b[33;43millicit_antiques_trade_network\u001b[39;49m\u001b[33;43m\"\u001b[39;49m\u001b[43m)\u001b[49m\u001b[43m]\u001b[49m\u001b[43m,\u001b[49m\n\u001b[32m     11\u001b[39m \u001b[43m    \u001b[49m\u001b[43mpublisher\u001b[49m\u001b[43m=\u001b[49m\u001b[33;43m\"\u001b[39;49m\u001b[33;43mTU Wien\u001b[39;49m\u001b[33;43m\"\u001b[39;49m\u001b[43m,\u001b[49m\n\u001b[32m     12\u001b[39m \u001b[43m    \u001b[49m\u001b[43mcreators\u001b[49m\u001b[43m=\u001b[49m\u001b[43m[\u001b[49m\u001b[43mCreateIdentifierCreator\u001b[49m\u001b[43m(\u001b[49m\n\u001b[32m     13\u001b[39m \u001b[43m        \u001b[49m\u001b[43mcreator_name\u001b[49m\u001b[43m=\u001b[49m\u001b[33;43m\"\u001b[39;49m\u001b[33;43mDaria Stefan\u001b[39;49m\u001b[33;43m\"\u001b[39;49m\u001b[43m,\u001b[49m\n\u001b[32m     14\u001b[39m \u001b[43m        \u001b[49m\u001b[43mname_identifier\u001b[49m\u001b[43m=\u001b[49m\u001b[33;43m\"\u001b[39;49m\u001b[33;43mhttps://orcid.org/0009-0008-0586-9350\u001b[39;49m\u001b[33;43m\"\u001b[39;49m\u001b[43m)\u001b[49m\u001b[43m]\u001b[49m\u001b[43m,\u001b[49m\n\u001b[32m     15\u001b[39m \u001b[43m    \u001b[49m\u001b[43mpublication_year\u001b[49m\u001b[43m=\u001b[49m\u001b[32;43m2025\u001b[39;49m\u001b[43m,\u001b[49m\n\u001b[32m     16\u001b[39m \u001b[43m  \u001b[49m\u001b[43m)\u001b[49m\n\u001b[32m     18\u001b[39m \u001b[38;5;28mprint\u001b[39m(\u001b[33mf\u001b[39m\u001b[33m\"\u001b[39m\u001b[33midentifier id: \u001b[39m\u001b[38;5;132;01m{\u001b[39;00midentifier.id\u001b[38;5;132;01m}\u001b[39;00m\u001b[33m\"\u001b[39m)\n",
      "\u001b[36mFile \u001b[39m\u001b[32m~/Uni/InfoSysteme/Data setwardship/trial/.venv/lib/python3.11/site-packages/dbrepo/RestClient.py:1574\u001b[39m, in \u001b[36mRestClient.create_identifier\u001b[39m\u001b[34m(self, database_id, type, titles, publisher, creators, publication_year, descriptions, funders, licenses, language, subset_id, view_id, table_id, publication_day, publication_month, related_identifiers)\u001b[39m\n\u001b[32m   1544\u001b[39m \u001b[38;5;250m\u001b[39m\u001b[33;03m\"\"\"\u001b[39;00m\n\u001b[32m   1545\u001b[39m \u001b[33;03mCreate an identifier draft.\u001b[39;00m\n\u001b[32m   1546\u001b[39m \n\u001b[32m   (...)\u001b[39m\u001b[32m   1571\u001b[39m \u001b[33;03m:raises ResponseCodeError: If something went wrong with the creation of the identifier.\u001b[39;00m\n\u001b[32m   1572\u001b[39m \u001b[33;03m\"\"\"\u001b[39;00m\n\u001b[32m   1573\u001b[39m url = \u001b[33mf\u001b[39m\u001b[33m'\u001b[39m\u001b[33m/api/identifier\u001b[39m\u001b[33m'\u001b[39m\n\u001b[32m-> \u001b[39m\u001b[32m1574\u001b[39m payload = \u001b[43mCreateIdentifier\u001b[49m\u001b[43m(\u001b[49m\u001b[43mdatabase_id\u001b[49m\u001b[43m=\u001b[49m\u001b[43mdatabase_id\u001b[49m\u001b[43m,\u001b[49m\u001b[43m \u001b[49m\u001b[38;5;28;43mtype\u001b[39;49m\u001b[43m=\u001b[49m\u001b[38;5;28;43mtype\u001b[39;49m\u001b[43m,\u001b[49m\u001b[43m \u001b[49m\u001b[43mtitles\u001b[49m\u001b[43m=\u001b[49m\u001b[43mtitles\u001b[49m\u001b[43m,\u001b[49m\u001b[43m \u001b[49m\u001b[43mpublisher\u001b[49m\u001b[43m=\u001b[49m\u001b[43mpublisher\u001b[49m\u001b[43m,\u001b[49m\n\u001b[32m   1575\u001b[39m \u001b[43m                           \u001b[49m\u001b[43mcreators\u001b[49m\u001b[43m=\u001b[49m\u001b[43mcreators\u001b[49m\u001b[43m,\u001b[49m\u001b[43m \u001b[49m\u001b[43mpublication_year\u001b[49m\u001b[43m=\u001b[49m\u001b[43mpublication_year\u001b[49m\u001b[43m,\u001b[49m\u001b[43m \u001b[49m\u001b[43mdescriptions\u001b[49m\u001b[43m=\u001b[49m\u001b[43mdescriptions\u001b[49m\u001b[43m,\u001b[49m\n\u001b[32m   1576\u001b[39m \u001b[43m                           \u001b[49m\u001b[43mfunders\u001b[49m\u001b[43m=\u001b[49m\u001b[43mfunders\u001b[49m\u001b[43m,\u001b[49m\u001b[43m \u001b[49m\u001b[43mlicenses\u001b[49m\u001b[43m=\u001b[49m\u001b[43mlicenses\u001b[49m\u001b[43m,\u001b[49m\u001b[43m \u001b[49m\u001b[43mlanguage\u001b[49m\u001b[43m=\u001b[49m\u001b[43mlanguage\u001b[49m\u001b[43m,\u001b[49m\u001b[43m \u001b[49m\u001b[43mquery_id\u001b[49m\u001b[43m=\u001b[49m\u001b[43msubset_id\u001b[49m\u001b[43m,\u001b[49m\n\u001b[32m   1577\u001b[39m \u001b[43m                           \u001b[49m\u001b[43mview_id\u001b[49m\u001b[43m=\u001b[49m\u001b[43mview_id\u001b[49m\u001b[43m,\u001b[49m\u001b[43m \u001b[49m\u001b[43mtable_id\u001b[49m\u001b[43m=\u001b[49m\u001b[43mtable_id\u001b[49m\u001b[43m,\u001b[49m\u001b[43m \u001b[49m\u001b[43mpublication_day\u001b[49m\u001b[43m=\u001b[49m\u001b[43mpublication_day\u001b[49m\u001b[43m,\u001b[49m\n\u001b[32m   1578\u001b[39m \u001b[43m                           \u001b[49m\u001b[43mpublication_month\u001b[49m\u001b[43m=\u001b[49m\u001b[43mpublication_month\u001b[49m\u001b[43m,\u001b[49m\u001b[43m \u001b[49m\u001b[43mrelated_identifiers\u001b[49m\u001b[43m=\u001b[49m\u001b[43mrelated_identifiers\u001b[49m\u001b[43m)\u001b[49m\n\u001b[32m   1579\u001b[39m response = \u001b[38;5;28mself\u001b[39m._wrapper(method=\u001b[33m\"\u001b[39m\u001b[33mpost\u001b[39m\u001b[33m\"\u001b[39m, url=url, force_auth=\u001b[38;5;28;01mTrue\u001b[39;00m, payload=payload)\n\u001b[32m   1580\u001b[39m \u001b[38;5;28;01mif\u001b[39;00m response.status_code == \u001b[32m201\u001b[39m:\n",
      "\u001b[36mFile \u001b[39m\u001b[32m~/Uni/InfoSysteme/Data setwardship/trial/.venv/lib/python3.11/site-packages/pydantic/main.py:253\u001b[39m, in \u001b[36mBaseModel.__init__\u001b[39m\u001b[34m(self, **data)\u001b[39m\n\u001b[32m    251\u001b[39m \u001b[38;5;66;03m# `__tracebackhide__` tells pytest and some other tools to omit this function from tracebacks\u001b[39;00m\n\u001b[32m    252\u001b[39m __tracebackhide__ = \u001b[38;5;28;01mTrue\u001b[39;00m\n\u001b[32m--> \u001b[39m\u001b[32m253\u001b[39m validated_self = \u001b[38;5;28;43mself\u001b[39;49m\u001b[43m.\u001b[49m\u001b[43m__pydantic_validator__\u001b[49m\u001b[43m.\u001b[49m\u001b[43mvalidate_python\u001b[49m\u001b[43m(\u001b[49m\u001b[43mdata\u001b[49m\u001b[43m,\u001b[49m\u001b[43m \u001b[49m\u001b[43mself_instance\u001b[49m\u001b[43m=\u001b[49m\u001b[38;5;28;43mself\u001b[39;49m\u001b[43m)\u001b[49m\n\u001b[32m    254\u001b[39m \u001b[38;5;28;01mif\u001b[39;00m \u001b[38;5;28mself\u001b[39m \u001b[38;5;129;01mis\u001b[39;00m \u001b[38;5;129;01mnot\u001b[39;00m validated_self:\n\u001b[32m    255\u001b[39m     warnings.warn(\n\u001b[32m    256\u001b[39m         \u001b[33m'\u001b[39m\u001b[33mA custom validator is returning a value other than `self`.\u001b[39m\u001b[38;5;130;01m\\n\u001b[39;00m\u001b[33m'\u001b[39m\n\u001b[32m    257\u001b[39m         \u001b[33m\"\u001b[39m\u001b[33mReturning anything other than `self` from a top level model validator isn\u001b[39m\u001b[33m'\u001b[39m\u001b[33mt supported when validating via `__init__`.\u001b[39m\u001b[38;5;130;01m\\n\u001b[39;00m\u001b[33m\"\u001b[39m\n\u001b[32m    258\u001b[39m         \u001b[33m'\u001b[39m\u001b[33mSee the `model_validator` docs (https://docs.pydantic.dev/latest/concepts/validators/#model-validators) for more details.\u001b[39m\u001b[33m'\u001b[39m,\n\u001b[32m    259\u001b[39m         stacklevel=\u001b[32m2\u001b[39m,\n\u001b[32m    260\u001b[39m     )\n",
      "\u001b[31mValidationError\u001b[39m: 1 validation error for CreateIdentifier\ndescriptions\n  Input should be a valid list [type=list_type, input_value=None, input_type=NoneType]\n    For further information visit https://errors.pydantic.dev/2.11/v/list_type"
     ]
    }
   ],
   "source": [
    "from dbrepo.RestClient import RestClient\n",
    "from dbrepo.api.dto import IdentifierType, CreateIdentifierFunder, CreateIdentifierDescription, \\\n",
    "    CreateIdentifierTitle, Identifier, CreateIdentifierCreator, CreateRelatedIdentifier, RelatedIdentifierType, \\\n",
    "    RelatedIdentifierRelation\n",
    "\n",
    "\n",
    "client.create_identifier(\n",
    "    database_id=database_id, \n",
    "    type = IdentifierType.DATABASE, \n",
    "    titles=[CreateIdentifierTitle(title=\"illicit_antiques_trade_network\")],\n",
    "    publisher=\"TU Wien\",\n",
    "    creators=[CreateIdentifierCreator(\n",
    "        creator_name=\"Daria Stefan\",\n",
    "        name_identifier=\"https://orcid.org/0009-0008-0586-9350\")],\n",
    "    publication_year=2025,\n",
    "  )\n",
    "\n",
    "print(f\"identifier id: {identifier.id}\")"
   ]
  },
  {
   "cell_type": "code",
   "execution_count": 249,
   "metadata": {},
   "outputs": [
    {
     "ename": "ValidationError",
     "evalue": "1 validation error for CreateIdentifier\ndescriptions\n  Input should be a valid list [type=list_type, input_value=None, input_type=NoneType]\n    For further information visit https://errors.pydantic.dev/2.11/v/list_type",
     "output_type": "error",
     "traceback": [
      "\u001b[31m---------------------------------------------------------------------------\u001b[39m",
      "\u001b[31mValidationError\u001b[39m                           Traceback (most recent call last)",
      "\u001b[36mCell\u001b[39m\u001b[36m \u001b[39m\u001b[32mIn[249]\u001b[39m\u001b[32m, line 7\u001b[39m\n\u001b[32m      1\u001b[39m \u001b[38;5;28;01mfrom\u001b[39;00m\u001b[38;5;250m \u001b[39m\u001b[34;01mdbrepo\u001b[39;00m\u001b[34;01m.\u001b[39;00m\u001b[34;01mRestClient\u001b[39;00m\u001b[38;5;250m \u001b[39m\u001b[38;5;28;01mimport\u001b[39;00m RestClient\n\u001b[32m      2\u001b[39m \u001b[38;5;28;01mfrom\u001b[39;00m\u001b[38;5;250m \u001b[39m\u001b[34;01mdbrepo\u001b[39;00m\u001b[34;01m.\u001b[39;00m\u001b[34;01mapi\u001b[39;00m\u001b[34;01m.\u001b[39;00m\u001b[34;01mdto\u001b[39;00m\u001b[38;5;250m \u001b[39m\u001b[38;5;28;01mimport\u001b[39;00m IdentifierType, CreateIdentifierFunder, CreateIdentifierDescription, \\\n\u001b[32m      3\u001b[39m     CreateIdentifierTitle, Identifier, CreateIdentifierCreator, CreateRelatedIdentifier, RelatedIdentifierType, \\\n\u001b[32m      4\u001b[39m     RelatedIdentifierRelation\n\u001b[32m----> \u001b[39m\u001b[32m7\u001b[39m \u001b[43mclient\u001b[49m\u001b[43m.\u001b[49m\u001b[43mcreate_identifier\u001b[49m\u001b[43m(\u001b[49m\n\u001b[32m      8\u001b[39m \u001b[43m    \u001b[49m\u001b[43mdatabase_id\u001b[49m\u001b[43m=\u001b[49m\u001b[33;43m\"\u001b[39;49m\u001b[33;43me30f2ca5-ba60-4587-849b-4a496abfc186\u001b[39;49m\u001b[33;43m\"\u001b[39;49m\u001b[43m,\u001b[49m\u001b[43m \u001b[49m\n\u001b[32m      9\u001b[39m \u001b[43m    \u001b[49m\u001b[38;5;28;43mtype\u001b[39;49m\u001b[43m \u001b[49m\u001b[43m=\u001b[49m\u001b[43m \u001b[49m\u001b[43mIdentifierType\u001b[49m\u001b[43m.\u001b[49m\u001b[43mDATABASE\u001b[49m\u001b[43m,\u001b[49m\u001b[43m \u001b[49m\n\u001b[32m     10\u001b[39m \u001b[43m    \u001b[49m\u001b[43mtitles\u001b[49m\u001b[43m=\u001b[49m\u001b[43m[\u001b[49m\u001b[43mCreateIdentifierTitle\u001b[49m\u001b[43m(\u001b[49m\u001b[43mtitle\u001b[49m\u001b[43m=\u001b[49m\u001b[33;43m\"\u001b[39;49m\u001b[33;43millicit antiques trade network\u001b[39;49m\u001b[33;43m\"\u001b[39;49m\u001b[43m)\u001b[49m\u001b[43m]\u001b[49m\u001b[43m,\u001b[49m\n\u001b[32m     11\u001b[39m \u001b[43m    \u001b[49m\u001b[43mpublisher\u001b[49m\u001b[43m=\u001b[49m\u001b[33;43m\"\u001b[39;49m\u001b[33;43mTU Wien\u001b[39;49m\u001b[33;43m\"\u001b[39;49m\u001b[43m,\u001b[49m\n\u001b[32m     12\u001b[39m \u001b[43m    \u001b[49m\u001b[43mcreators\u001b[49m\u001b[43m=\u001b[49m\u001b[43m[\u001b[49m\u001b[43mCreateIdentifierCreator\u001b[49m\u001b[43m(\u001b[49m\n\u001b[32m     13\u001b[39m \u001b[43m        \u001b[49m\u001b[43mcreator_name\u001b[49m\u001b[43m=\u001b[49m\u001b[33;43m\"\u001b[39;49m\u001b[33;43mDaria Stefan\u001b[39;49m\u001b[33;43m\"\u001b[39;49m\u001b[43m,\u001b[49m\n\u001b[32m     14\u001b[39m \u001b[43m        \u001b[49m\u001b[43mname_identifier\u001b[49m\u001b[43m=\u001b[49m\u001b[33;43m\"\u001b[39;49m\u001b[33;43mhttps://orcid.org/0009-0008-0586-9350\u001b[39;49m\u001b[33;43m\"\u001b[39;49m\u001b[43m)\u001b[49m\u001b[43m]\u001b[49m\u001b[43m,\u001b[49m\n\u001b[32m     15\u001b[39m \u001b[43m    \u001b[49m\u001b[43mpublication_year\u001b[49m\u001b[43m=\u001b[49m\u001b[32;43m2025\u001b[39;49m\u001b[43m,\u001b[49m\n\u001b[32m     16\u001b[39m \u001b[43m  \u001b[49m\u001b[43m)\u001b[49m\n\u001b[32m     18\u001b[39m \u001b[38;5;28mprint\u001b[39m(\u001b[33mf\u001b[39m\u001b[33m\"\u001b[39m\u001b[33midentifier id: \u001b[39m\u001b[38;5;132;01m{\u001b[39;00midentifier.id\u001b[38;5;132;01m}\u001b[39;00m\u001b[33m\"\u001b[39m)\n",
      "\u001b[36mFile \u001b[39m\u001b[32m~/Uni/InfoSysteme/Data setwardship/trial/.venv/lib/python3.11/site-packages/dbrepo/RestClient.py:1574\u001b[39m, in \u001b[36mRestClient.create_identifier\u001b[39m\u001b[34m(self, database_id, type, titles, publisher, creators, publication_year, descriptions, funders, licenses, language, subset_id, view_id, table_id, publication_day, publication_month, related_identifiers)\u001b[39m\n\u001b[32m   1544\u001b[39m \u001b[38;5;250m\u001b[39m\u001b[33;03m\"\"\"\u001b[39;00m\n\u001b[32m   1545\u001b[39m \u001b[33;03mCreate an identifier draft.\u001b[39;00m\n\u001b[32m   1546\u001b[39m \n\u001b[32m   (...)\u001b[39m\u001b[32m   1571\u001b[39m \u001b[33;03m:raises ResponseCodeError: If something went wrong with the creation of the identifier.\u001b[39;00m\n\u001b[32m   1572\u001b[39m \u001b[33;03m\"\"\"\u001b[39;00m\n\u001b[32m   1573\u001b[39m url = \u001b[33mf\u001b[39m\u001b[33m'\u001b[39m\u001b[33m/api/identifier\u001b[39m\u001b[33m'\u001b[39m\n\u001b[32m-> \u001b[39m\u001b[32m1574\u001b[39m payload = \u001b[43mCreateIdentifier\u001b[49m\u001b[43m(\u001b[49m\u001b[43mdatabase_id\u001b[49m\u001b[43m=\u001b[49m\u001b[43mdatabase_id\u001b[49m\u001b[43m,\u001b[49m\u001b[43m \u001b[49m\u001b[38;5;28;43mtype\u001b[39;49m\u001b[43m=\u001b[49m\u001b[38;5;28;43mtype\u001b[39;49m\u001b[43m,\u001b[49m\u001b[43m \u001b[49m\u001b[43mtitles\u001b[49m\u001b[43m=\u001b[49m\u001b[43mtitles\u001b[49m\u001b[43m,\u001b[49m\u001b[43m \u001b[49m\u001b[43mpublisher\u001b[49m\u001b[43m=\u001b[49m\u001b[43mpublisher\u001b[49m\u001b[43m,\u001b[49m\n\u001b[32m   1575\u001b[39m \u001b[43m                           \u001b[49m\u001b[43mcreators\u001b[49m\u001b[43m=\u001b[49m\u001b[43mcreators\u001b[49m\u001b[43m,\u001b[49m\u001b[43m \u001b[49m\u001b[43mpublication_year\u001b[49m\u001b[43m=\u001b[49m\u001b[43mpublication_year\u001b[49m\u001b[43m,\u001b[49m\u001b[43m \u001b[49m\u001b[43mdescriptions\u001b[49m\u001b[43m=\u001b[49m\u001b[43mdescriptions\u001b[49m\u001b[43m,\u001b[49m\n\u001b[32m   1576\u001b[39m \u001b[43m                           \u001b[49m\u001b[43mfunders\u001b[49m\u001b[43m=\u001b[49m\u001b[43mfunders\u001b[49m\u001b[43m,\u001b[49m\u001b[43m \u001b[49m\u001b[43mlicenses\u001b[49m\u001b[43m=\u001b[49m\u001b[43mlicenses\u001b[49m\u001b[43m,\u001b[49m\u001b[43m \u001b[49m\u001b[43mlanguage\u001b[49m\u001b[43m=\u001b[49m\u001b[43mlanguage\u001b[49m\u001b[43m,\u001b[49m\u001b[43m \u001b[49m\u001b[43mquery_id\u001b[49m\u001b[43m=\u001b[49m\u001b[43msubset_id\u001b[49m\u001b[43m,\u001b[49m\n\u001b[32m   1577\u001b[39m \u001b[43m                           \u001b[49m\u001b[43mview_id\u001b[49m\u001b[43m=\u001b[49m\u001b[43mview_id\u001b[49m\u001b[43m,\u001b[49m\u001b[43m \u001b[49m\u001b[43mtable_id\u001b[49m\u001b[43m=\u001b[49m\u001b[43mtable_id\u001b[49m\u001b[43m,\u001b[49m\u001b[43m \u001b[49m\u001b[43mpublication_day\u001b[49m\u001b[43m=\u001b[49m\u001b[43mpublication_day\u001b[49m\u001b[43m,\u001b[49m\n\u001b[32m   1578\u001b[39m \u001b[43m                           \u001b[49m\u001b[43mpublication_month\u001b[49m\u001b[43m=\u001b[49m\u001b[43mpublication_month\u001b[49m\u001b[43m,\u001b[49m\u001b[43m \u001b[49m\u001b[43mrelated_identifiers\u001b[49m\u001b[43m=\u001b[49m\u001b[43mrelated_identifiers\u001b[49m\u001b[43m)\u001b[49m\n\u001b[32m   1579\u001b[39m response = \u001b[38;5;28mself\u001b[39m._wrapper(method=\u001b[33m\"\u001b[39m\u001b[33mpost\u001b[39m\u001b[33m\"\u001b[39m, url=url, force_auth=\u001b[38;5;28;01mTrue\u001b[39;00m, payload=payload)\n\u001b[32m   1580\u001b[39m \u001b[38;5;28;01mif\u001b[39;00m response.status_code == \u001b[32m201\u001b[39m:\n",
      "\u001b[36mFile \u001b[39m\u001b[32m~/Uni/InfoSysteme/Data setwardship/trial/.venv/lib/python3.11/site-packages/pydantic/main.py:253\u001b[39m, in \u001b[36mBaseModel.__init__\u001b[39m\u001b[34m(self, **data)\u001b[39m\n\u001b[32m    251\u001b[39m \u001b[38;5;66;03m# `__tracebackhide__` tells pytest and some other tools to omit this function from tracebacks\u001b[39;00m\n\u001b[32m    252\u001b[39m __tracebackhide__ = \u001b[38;5;28;01mTrue\u001b[39;00m\n\u001b[32m--> \u001b[39m\u001b[32m253\u001b[39m validated_self = \u001b[38;5;28;43mself\u001b[39;49m\u001b[43m.\u001b[49m\u001b[43m__pydantic_validator__\u001b[49m\u001b[43m.\u001b[49m\u001b[43mvalidate_python\u001b[49m\u001b[43m(\u001b[49m\u001b[43mdata\u001b[49m\u001b[43m,\u001b[49m\u001b[43m \u001b[49m\u001b[43mself_instance\u001b[49m\u001b[43m=\u001b[49m\u001b[38;5;28;43mself\u001b[39;49m\u001b[43m)\u001b[49m\n\u001b[32m    254\u001b[39m \u001b[38;5;28;01mif\u001b[39;00m \u001b[38;5;28mself\u001b[39m \u001b[38;5;129;01mis\u001b[39;00m \u001b[38;5;129;01mnot\u001b[39;00m validated_self:\n\u001b[32m    255\u001b[39m     warnings.warn(\n\u001b[32m    256\u001b[39m         \u001b[33m'\u001b[39m\u001b[33mA custom validator is returning a value other than `self`.\u001b[39m\u001b[38;5;130;01m\\n\u001b[39;00m\u001b[33m'\u001b[39m\n\u001b[32m    257\u001b[39m         \u001b[33m\"\u001b[39m\u001b[33mReturning anything other than `self` from a top level model validator isn\u001b[39m\u001b[33m'\u001b[39m\u001b[33mt supported when validating via `__init__`.\u001b[39m\u001b[38;5;130;01m\\n\u001b[39;00m\u001b[33m\"\u001b[39m\n\u001b[32m    258\u001b[39m         \u001b[33m'\u001b[39m\u001b[33mSee the `model_validator` docs (https://docs.pydantic.dev/latest/concepts/validators/#model-validators) for more details.\u001b[39m\u001b[33m'\u001b[39m,\n\u001b[32m    259\u001b[39m         stacklevel=\u001b[32m2\u001b[39m,\n\u001b[32m    260\u001b[39m     )\n",
      "\u001b[31mValidationError\u001b[39m: 1 validation error for CreateIdentifier\ndescriptions\n  Input should be a valid list [type=list_type, input_value=None, input_type=NoneType]\n    For further information visit https://errors.pydantic.dev/2.11/v/list_type"
     ]
    }
   ],
   "source": [
    "from dbrepo.RestClient import RestClient\n",
    "from dbrepo.api.dto import IdentifierType, CreateIdentifierFunder, CreateIdentifierDescription, \\\n",
    "    CreateIdentifierTitle, Identifier, CreateIdentifierCreator, CreateRelatedIdentifier, RelatedIdentifierType, \\\n",
    "    RelatedIdentifierRelation\n",
    "\n",
    "\n",
    "client.create_identifier(\n",
    "    database_id=\"e30f2ca5-ba60-4587-849b-4a496abfc186\", \n",
    "    type = IdentifierType.DATABASE, \n",
    "    titles=[CreateIdentifierTitle(title=\"illicit antiques trade network\")],\n",
    "    publisher=\"TU Wien\",\n",
    "    creators=[CreateIdentifierCreator(\n",
    "        creator_name=\"Daria Stefan\",\n",
    "        name_identifier=\"https://orcid.org/0009-0008-0586-9350\")],\n",
    "    publication_year=2025,\n",
    "  )\n",
    "\n",
    "print(f\"identifier id: {identifier.id}\")"
   ]
  },
  {
   "cell_type": "markdown",
   "metadata": {},
   "source": [
    "## utils"
   ]
  },
  {
   "cell_type": "code",
   "execution_count": 140,
   "metadata": {},
   "outputs": [],
   "source": [
    "#get subsets\n",
    "def get_all_subsets(client, database_id: str):\n",
    "    \"\"\"\n",
    "    List all subsets in a given database.\n",
    "    Returns a list of (subset_id, name) tuples.\n",
    "    \"\"\"\n",
    "    url = f'/api/database/{database_id}/subset'\n",
    "    response = client._wrapper(method=\"get\", url=url)\n",
    "\n",
    "    if response.status_code == 200:\n",
    "        subsets = response.json()\n",
    "        results = []\n",
    "        for subset in subsets:\n",
    "            subset_id = subset['id']\n",
    "            try:\n",
    "                name = subset['identifiers'][0]['titles'][0]['title']\n",
    "            except (KeyError, IndexError, TypeError):\n",
    "                name = \"<no-title>\"\n",
    "            results.append((subset_id, name))\n",
    "        return results\n",
    "\n",
    "    raise Exception(f\"Failed to get subsets: {response.status_code}: {response.text}\")\n",
    "\n",
    "\n"
   ]
  },
  {
   "cell_type": "code",
   "execution_count": 141,
   "metadata": {},
   "outputs": [
    {
     "data": {
      "text/plain": [
       "[('02f01bb4-2433-11f0-8632-66164a21a937', '<no-title>'),\n",
       " ('11a9f85b-2411-11f0-8632-66164a21a937', '<no-title>'),\n",
       " ('12561777-243a-11f0-8632-66164a21a937', '<no-title>'),\n",
       " ('14014c45-21c9-11f0-8d13-0e8cdc00dc05', 'Test Set'),\n",
       " ('19f1ebd4-21c5-11f0-bed7-02bbcde59723', '<no-title>'),\n",
       " ('1c379f05-243a-11f0-8632-66164a21a937', '<no-title>'),\n",
       " ('2239439b-243a-11f0-8632-66164a21a937', '<no-title>'),\n",
       " ('2475f958-21c4-11f0-8d13-0e8cdc00dc05', 'Training Set'),\n",
       " ('38ba5311-21c5-11f0-8d13-0e8cdc00dc05', 'Validation Set'),\n",
       " ('3c5e787f-2434-11f0-8632-66164a21a937', '<no-title>'),\n",
       " ('47acef31-2439-11f0-8632-66164a21a937', '<no-title>'),\n",
       " ('4dceff09-2439-11f0-97fd-36086aeef04e', '<no-title>'),\n",
       " ('57b9bbd0-243a-11f0-bf18-c60333c11641', '<no-title>'),\n",
       " ('65e04dc5-2439-11f0-bf18-c60333c11641', '<no-title>'),\n",
       " ('6d2a3ed6-243a-11f0-8632-66164a21a937', '<no-title>'),\n",
       " ('6f3725ba-2439-11f0-8632-66164a21a937', '<no-title>'),\n",
       " ('7711a19f-2439-11f0-8632-66164a21a937', '<no-title>'),\n",
       " ('7d10c992-2439-11f0-8632-66164a21a937', '<no-title>'),\n",
       " ('7f030c37-243a-11f0-bf18-c60333c11641', '<no-title>'),\n",
       " ('9100daf4-2439-11f0-97fd-36086aeef04e', '<no-title>'),\n",
       " ('9f90a8c5-21c8-11f0-88e8-b68ae8e66242', 'Validation Set'),\n",
       " ('ad49986a-2439-11f0-97fd-36086aeef04e', '<no-title>'),\n",
       " ('b414bd85-2439-11f0-bf18-c60333c11641', '<no-title>'),\n",
       " ('bbec2b8b-2439-11f0-8632-66164a21a937', '<no-title>'),\n",
       " ('bf3f339a-2438-11f0-97fd-36086aeef04e', '<no-title>'),\n",
       " ('c43fb8cd-2431-11f0-97fd-36086aeef04e', '<no-title>'),\n",
       " ('c6819895-243a-11f0-97fd-36086aeef04e', '<no-title>'),\n",
       " ('c8b6b220-2439-11f0-bf18-c60333c11641', '<no-title>'),\n",
       " ('d451caf4-21c4-11f0-bed7-02bbcde59723', '<no-title>'),\n",
       " ('d52b96a7-2438-11f0-8632-66164a21a937', '<no-title>'),\n",
       " ('f47c472f-2438-11f0-8632-66164a21a937', '<no-title>'),\n",
       " ('f94a79b5-21c4-11f0-8d13-0e8cdc00dc05', '<no-title>')]"
      ]
     },
     "execution_count": 141,
     "metadata": {},
     "output_type": "execute_result"
    }
   ],
   "source": [
    "get_all_subsets(client, database_id)"
   ]
  },
  {
   "cell_type": "code",
   "execution_count": null,
   "metadata": {},
   "outputs": [],
   "source": [
    "def download_subset_data(client, database_id: str, subset_id: str = None, title: str = None):\n",
    "    \"\"\"\n",
    "    Download data from a specific subset based on subset_id or title and save it as a CSV.\n",
    "    If subset_id is provided, it will fetch data using that ID. \n",
    "    If title is provided, it will find the subset with the matching title and fetch its data.\n",
    "    \"\"\"\n",
    "    if not subset_id and not title:\n",
    "        raise ValueError(\"Either subset_id or title must be provided.\")\n",
    "    \n",
    "    if title:\n",
    "        # Search for the subset by title\n",
    "        all_subsets = get_all_subsets(client, database_id)  # This should return a list of tuples (subset_id, title)\n",
    "        subset = next((s for s in all_subsets if s[1] == title), None)\n",
    "        if subset:\n",
    "            subset_id = subset[0]\n",
    "        else:\n",
    "            raise ValueError(f\"No subset found with title: {title}\")\n",
    "\n",
    "    all_data = []\n",
    "    page = 0\n",
    "    size = 100  # Adjust the page size as needed\n",
    "    \n",
    "    while True:\n",
    "        subset_data = client.get_subset_data(database_id, subset_id, page, size)\n",
    "        if subset_data.empty:\n",
    "            break  # Exit the loop when no more data is found\n",
    "        \n",
    "        all_data.append(subset_data)\n",
    "        page += 1  # Move to the next page\n",
    "    \n",
    "    # Concatenate all pages into one DataFrame\n",
    "    full_data = pd.concat(all_data, ignore_index=True)\n",
    "    \n",
    "    # Save the full data as a CSV\n",
    "    file_name = f\"{title.replace(' ', '_') if title else subset_id}_data.csv\"\n",
    "    full_data.to_csv(file_name, index=False)\n",
    "    print(f\"Data for subset ID '{subset_id}' or title '{title}' saved as {file_name}\")\n"
   ]
  },
  {
   "cell_type": "markdown",
   "metadata": {},
   "source": [
    "# TUWRD"
   ]
  },
  {
   "cell_type": "code",
   "execution_count": 1,
   "metadata": {},
   "outputs": [
    {
     "name": "stdout",
     "output_type": "stream",
     "text": [
      "{'status': 403, 'message': 'Permission denied.'}\n"
     ]
    }
   ],
   "source": [
    "import requests\n",
    "url = \"https://researchdata.tuwien.ac.at/api/records\"\n",
    "headers = {\n",
    "    \"Authorization\": \"Bearer {your-access-token}\",\n",
    "    \"Content-Type\": \"application/json\"\n",
    "}\n",
    "data = {\n",
    "    \"metadata\": {\n",
    "        \"creators\": [\n",
    "            {\n",
    "                \"person_or_org\": {\n",
    "                    \"family_name\": \"Doe\",\n",
    "                    \"given_name\": \"Jane\",\n",
    "                    \"type\": \"personal\",\n",
    "                }\n",
    "            }\n",
    "        ],\n",
    "        \"publication_date\": \"2025-01-09\",\n",
    "        \"publisher\": \"TU Wien\",\n",
    "        \"resource_type\": {\"id\": \"dataset\"},\n",
    "        \"title\": \"New Dataset Title\",\n",
    "    },\n",
    "    \"files\": {\"enabled\": True},\n",
    "}\n",
    "\n",
    "response = requests.post(url, json=data, headers=headers)\n",
    "print(response.json())"
   ]
  },
  {
   "cell_type": "code",
   "execution_count": null,
   "metadata": {},
   "outputs": [],
   "source": [
    "import requests\n",
    "url = \"https://researchdata.tuwien.ac.at/api/records/abcde-12345/draft/pids/doi\"\n",
    "headers = {\n",
    "    \"Authorization\": \"Bearer {your-access-token}\",\n",
    "}\n",
    "\n",
    "response = requests.post(url, headers=headers)\n",
    "print(response.json())"
   ]
  }
 ],
 "metadata": {
  "kernelspec": {
   "display_name": ".venv",
   "language": "python",
   "name": "python3"
  },
  "language_info": {
   "codemirror_mode": {
    "name": "ipython",
    "version": 3
   },
   "file_extension": ".py",
   "mimetype": "text/x-python",
   "name": "python",
   "nbconvert_exporter": "python",
   "pygments_lexer": "ipython3",
   "version": "3.11.9"
  }
 },
 "nbformat": 4,
 "nbformat_minor": 2
}
